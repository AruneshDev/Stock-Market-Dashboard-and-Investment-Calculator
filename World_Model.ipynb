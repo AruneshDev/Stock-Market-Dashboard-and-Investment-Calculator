{
  "cells": [
    {
      "cell_type": "code",
      "execution_count": 3,
      "metadata": {
        "id": "dH1G42NjI3Pc"
      },
      "outputs": [
        {
          "name": "stdout",
          "output_type": "stream",
          "text": [
            "Requirement already satisfied: streamlit in c:\\users\\arunesh\\anaconda3\\lib\\site-packages (1.37.1)\n",
            "Requirement already satisfied: altair<6,>=4.0 in c:\\users\\arunesh\\anaconda3\\lib\\site-packages (from streamlit) (5.0.1)\n",
            "Requirement already satisfied: blinker<2,>=1.0.0 in c:\\users\\arunesh\\anaconda3\\lib\\site-packages (from streamlit) (1.6.2)\n",
            "Requirement already satisfied: cachetools<6,>=4.0 in c:\\users\\arunesh\\anaconda3\\lib\\site-packages (from streamlit) (5.3.3)\n",
            "Requirement already satisfied: click<9,>=7.0 in c:\\users\\arunesh\\anaconda3\\lib\\site-packages (from streamlit) (8.1.7)\n",
            "Requirement already satisfied: numpy<3,>=1.20 in c:\\users\\arunesh\\anaconda3\\lib\\site-packages (from streamlit) (1.26.4)\n",
            "Requirement already satisfied: packaging<25,>=20 in c:\\users\\arunesh\\anaconda3\\lib\\site-packages (from streamlit) (24.1)\n",
            "Requirement already satisfied: pandas<3,>=1.3.0 in c:\\users\\arunesh\\anaconda3\\lib\\site-packages (from streamlit) (2.2.2)\n",
            "Requirement already satisfied: pillow<11,>=7.1.0 in c:\\users\\arunesh\\anaconda3\\lib\\site-packages (from streamlit) (10.4.0)\n",
            "Requirement already satisfied: protobuf<6,>=3.20 in c:\\users\\arunesh\\anaconda3\\lib\\site-packages (from streamlit) (4.25.3)\n",
            "Requirement already satisfied: pyarrow>=7.0 in c:\\users\\arunesh\\anaconda3\\lib\\site-packages (from streamlit) (16.1.0)\n",
            "Requirement already satisfied: requests<3,>=2.27 in c:\\users\\arunesh\\anaconda3\\lib\\site-packages (from streamlit) (2.32.3)\n",
            "Requirement already satisfied: rich<14,>=10.14.0 in c:\\users\\arunesh\\anaconda3\\lib\\site-packages (from streamlit) (13.7.1)\n",
            "Requirement already satisfied: tenacity<9,>=8.1.0 in c:\\users\\arunesh\\anaconda3\\lib\\site-packages (from streamlit) (8.2.3)\n",
            "Requirement already satisfied: toml<2,>=0.10.1 in c:\\users\\arunesh\\anaconda3\\lib\\site-packages (from streamlit) (0.10.2)\n",
            "Requirement already satisfied: typing-extensions<5,>=4.3.0 in c:\\users\\arunesh\\anaconda3\\lib\\site-packages (from streamlit) (4.11.0)\n",
            "Requirement already satisfied: gitpython!=3.1.19,<4,>=3.0.7 in c:\\users\\arunesh\\anaconda3\\lib\\site-packages (from streamlit) (3.1.43)\n",
            "Requirement already satisfied: pydeck<1,>=0.8.0b4 in c:\\users\\arunesh\\anaconda3\\lib\\site-packages (from streamlit) (0.8.0)\n",
            "Requirement already satisfied: tornado<7,>=6.0.3 in c:\\users\\arunesh\\anaconda3\\lib\\site-packages (from streamlit) (6.4.1)\n",
            "Requirement already satisfied: watchdog<5,>=2.1.5 in c:\\users\\arunesh\\anaconda3\\lib\\site-packages (from streamlit) (4.0.1)\n",
            "Requirement already satisfied: jinja2 in c:\\users\\arunesh\\anaconda3\\lib\\site-packages (from altair<6,>=4.0->streamlit) (3.1.4)\n",
            "Requirement already satisfied: jsonschema>=3.0 in c:\\users\\arunesh\\anaconda3\\lib\\site-packages (from altair<6,>=4.0->streamlit) (4.23.0)\n",
            "Requirement already satisfied: toolz in c:\\users\\arunesh\\anaconda3\\lib\\site-packages (from altair<6,>=4.0->streamlit) (0.12.0)\n",
            "Requirement already satisfied: colorama in c:\\users\\arunesh\\anaconda3\\lib\\site-packages (from click<9,>=7.0->streamlit) (0.4.6)\n",
            "Requirement already satisfied: gitdb<5,>=4.0.1 in c:\\users\\arunesh\\anaconda3\\lib\\site-packages (from gitpython!=3.1.19,<4,>=3.0.7->streamlit) (4.0.7)\n",
            "Requirement already satisfied: python-dateutil>=2.8.2 in c:\\users\\arunesh\\anaconda3\\lib\\site-packages (from pandas<3,>=1.3.0->streamlit) (2.9.0.post0)\n",
            "Requirement already satisfied: pytz>=2020.1 in c:\\users\\arunesh\\anaconda3\\lib\\site-packages (from pandas<3,>=1.3.0->streamlit) (2024.1)\n",
            "Requirement already satisfied: tzdata>=2022.7 in c:\\users\\arunesh\\anaconda3\\lib\\site-packages (from pandas<3,>=1.3.0->streamlit) (2023.3)\n",
            "Requirement already satisfied: charset-normalizer<4,>=2 in c:\\users\\arunesh\\anaconda3\\lib\\site-packages (from requests<3,>=2.27->streamlit) (3.3.2)\n",
            "Requirement already satisfied: idna<4,>=2.5 in c:\\users\\arunesh\\anaconda3\\lib\\site-packages (from requests<3,>=2.27->streamlit) (3.7)\n",
            "Requirement already satisfied: urllib3<3,>=1.21.1 in c:\\users\\arunesh\\anaconda3\\lib\\site-packages (from requests<3,>=2.27->streamlit) (2.2.3)\n",
            "Requirement already satisfied: certifi>=2017.4.17 in c:\\users\\arunesh\\anaconda3\\lib\\site-packages (from requests<3,>=2.27->streamlit) (2025.1.31)\n",
            "Requirement already satisfied: markdown-it-py>=2.2.0 in c:\\users\\arunesh\\anaconda3\\lib\\site-packages (from rich<14,>=10.14.0->streamlit) (2.2.0)\n",
            "Requirement already satisfied: pygments<3.0.0,>=2.13.0 in c:\\users\\arunesh\\anaconda3\\lib\\site-packages (from rich<14,>=10.14.0->streamlit) (2.15.1)\n",
            "Requirement already satisfied: smmap<5,>=3.0.1 in c:\\users\\arunesh\\anaconda3\\lib\\site-packages (from gitdb<5,>=4.0.1->gitpython!=3.1.19,<4,>=3.0.7->streamlit) (4.0.0)\n",
            "Requirement already satisfied: MarkupSafe>=2.0 in c:\\users\\arunesh\\anaconda3\\lib\\site-packages (from jinja2->altair<6,>=4.0->streamlit) (2.1.3)\n",
            "Requirement already satisfied: attrs>=22.2.0 in c:\\users\\arunesh\\anaconda3\\lib\\site-packages (from jsonschema>=3.0->altair<6,>=4.0->streamlit) (23.1.0)\n",
            "Requirement already satisfied: jsonschema-specifications>=2023.03.6 in c:\\users\\arunesh\\anaconda3\\lib\\site-packages (from jsonschema>=3.0->altair<6,>=4.0->streamlit) (2023.7.1)\n",
            "Requirement already satisfied: referencing>=0.28.4 in c:\\users\\arunesh\\anaconda3\\lib\\site-packages (from jsonschema>=3.0->altair<6,>=4.0->streamlit) (0.30.2)\n",
            "Requirement already satisfied: rpds-py>=0.7.1 in c:\\users\\arunesh\\anaconda3\\lib\\site-packages (from jsonschema>=3.0->altair<6,>=4.0->streamlit) (0.10.6)\n",
            "Requirement already satisfied: mdurl~=0.1 in c:\\users\\arunesh\\anaconda3\\lib\\site-packages (from markdown-it-py>=2.2.0->rich<14,>=10.14.0->streamlit) (0.1.0)\n",
            "Requirement already satisfied: six>=1.5 in c:\\users\\arunesh\\anaconda3\\lib\\site-packages (from python-dateutil>=2.8.2->pandas<3,>=1.3.0->streamlit) (1.16.0)\n",
            "Requirement already satisfied: streamlit in c:\\users\\arunesh\\anaconda3\\lib\\site-packages (1.37.1)\n",
            "Requirement already satisfied: ngrok in c:\\users\\arunesh\\anaconda3\\lib\\site-packages (1.4.0)\n",
            "Requirement already satisfied: altair<6,>=4.0 in c:\\users\\arunesh\\anaconda3\\lib\\site-packages (from streamlit) (5.0.1)\n",
            "Requirement already satisfied: blinker<2,>=1.0.0 in c:\\users\\arunesh\\anaconda3\\lib\\site-packages (from streamlit) (1.6.2)\n",
            "Requirement already satisfied: cachetools<6,>=4.0 in c:\\users\\arunesh\\anaconda3\\lib\\site-packages (from streamlit) (5.3.3)\n",
            "Requirement already satisfied: click<9,>=7.0 in c:\\users\\arunesh\\anaconda3\\lib\\site-packages (from streamlit) (8.1.7)\n",
            "Requirement already satisfied: numpy<3,>=1.20 in c:\\users\\arunesh\\anaconda3\\lib\\site-packages (from streamlit) (1.26.4)\n",
            "Requirement already satisfied: packaging<25,>=20 in c:\\users\\arunesh\\anaconda3\\lib\\site-packages (from streamlit) (24.1)\n",
            "Requirement already satisfied: pandas<3,>=1.3.0 in c:\\users\\arunesh\\anaconda3\\lib\\site-packages (from streamlit) (2.2.2)\n",
            "Requirement already satisfied: pillow<11,>=7.1.0 in c:\\users\\arunesh\\anaconda3\\lib\\site-packages (from streamlit) (10.4.0)\n",
            "Requirement already satisfied: protobuf<6,>=3.20 in c:\\users\\arunesh\\anaconda3\\lib\\site-packages (from streamlit) (4.25.3)\n",
            "Requirement already satisfied: pyarrow>=7.0 in c:\\users\\arunesh\\anaconda3\\lib\\site-packages (from streamlit) (16.1.0)\n",
            "Requirement already satisfied: requests<3,>=2.27 in c:\\users\\arunesh\\anaconda3\\lib\\site-packages (from streamlit) (2.32.3)\n",
            "Requirement already satisfied: rich<14,>=10.14.0 in c:\\users\\arunesh\\anaconda3\\lib\\site-packages (from streamlit) (13.7.1)\n",
            "Requirement already satisfied: tenacity<9,>=8.1.0 in c:\\users\\arunesh\\anaconda3\\lib\\site-packages (from streamlit) (8.2.3)\n",
            "Requirement already satisfied: toml<2,>=0.10.1 in c:\\users\\arunesh\\anaconda3\\lib\\site-packages (from streamlit) (0.10.2)\n",
            "Requirement already satisfied: typing-extensions<5,>=4.3.0 in c:\\users\\arunesh\\anaconda3\\lib\\site-packages (from streamlit) (4.11.0)\n",
            "Requirement already satisfied: gitpython!=3.1.19,<4,>=3.0.7 in c:\\users\\arunesh\\anaconda3\\lib\\site-packages (from streamlit) (3.1.43)\n",
            "Requirement already satisfied: pydeck<1,>=0.8.0b4 in c:\\users\\arunesh\\anaconda3\\lib\\site-packages (from streamlit) (0.8.0)\n",
            "Requirement already satisfied: tornado<7,>=6.0.3 in c:\\users\\arunesh\\anaconda3\\lib\\site-packages (from streamlit) (6.4.1)\n",
            "Requirement already satisfied: watchdog<5,>=2.1.5 in c:\\users\\arunesh\\anaconda3\\lib\\site-packages (from streamlit) (4.0.1)\n",
            "Requirement already satisfied: jinja2 in c:\\users\\arunesh\\anaconda3\\lib\\site-packages (from altair<6,>=4.0->streamlit) (3.1.4)\n",
            "Requirement already satisfied: jsonschema>=3.0 in c:\\users\\arunesh\\anaconda3\\lib\\site-packages (from altair<6,>=4.0->streamlit) (4.23.0)\n",
            "Requirement already satisfied: toolz in c:\\users\\arunesh\\anaconda3\\lib\\site-packages (from altair<6,>=4.0->streamlit) (0.12.0)\n",
            "Requirement already satisfied: colorama in c:\\users\\arunesh\\anaconda3\\lib\\site-packages (from click<9,>=7.0->streamlit) (0.4.6)\n",
            "Requirement already satisfied: gitdb<5,>=4.0.1 in c:\\users\\arunesh\\anaconda3\\lib\\site-packages (from gitpython!=3.1.19,<4,>=3.0.7->streamlit) (4.0.7)\n",
            "Requirement already satisfied: python-dateutil>=2.8.2 in c:\\users\\arunesh\\anaconda3\\lib\\site-packages (from pandas<3,>=1.3.0->streamlit) (2.9.0.post0)\n",
            "Requirement already satisfied: pytz>=2020.1 in c:\\users\\arunesh\\anaconda3\\lib\\site-packages (from pandas<3,>=1.3.0->streamlit) (2024.1)\n",
            "Requirement already satisfied: tzdata>=2022.7 in c:\\users\\arunesh\\anaconda3\\lib\\site-packages (from pandas<3,>=1.3.0->streamlit) (2023.3)\n",
            "Requirement already satisfied: charset-normalizer<4,>=2 in c:\\users\\arunesh\\anaconda3\\lib\\site-packages (from requests<3,>=2.27->streamlit) (3.3.2)\n",
            "Requirement already satisfied: idna<4,>=2.5 in c:\\users\\arunesh\\anaconda3\\lib\\site-packages (from requests<3,>=2.27->streamlit) (3.7)\n",
            "Requirement already satisfied: urllib3<3,>=1.21.1 in c:\\users\\arunesh\\anaconda3\\lib\\site-packages (from requests<3,>=2.27->streamlit) (2.2.3)\n",
            "Requirement already satisfied: certifi>=2017.4.17 in c:\\users\\arunesh\\anaconda3\\lib\\site-packages (from requests<3,>=2.27->streamlit) (2025.1.31)\n",
            "Requirement already satisfied: markdown-it-py>=2.2.0 in c:\\users\\arunesh\\anaconda3\\lib\\site-packages (from rich<14,>=10.14.0->streamlit) (2.2.0)\n",
            "Requirement already satisfied: pygments<3.0.0,>=2.13.0 in c:\\users\\arunesh\\anaconda3\\lib\\site-packages (from rich<14,>=10.14.0->streamlit) (2.15.1)\n",
            "Requirement already satisfied: smmap<5,>=3.0.1 in c:\\users\\arunesh\\anaconda3\\lib\\site-packages (from gitdb<5,>=4.0.1->gitpython!=3.1.19,<4,>=3.0.7->streamlit) (4.0.0)\n",
            "Requirement already satisfied: MarkupSafe>=2.0 in c:\\users\\arunesh\\anaconda3\\lib\\site-packages (from jinja2->altair<6,>=4.0->streamlit) (2.1.3)\n",
            "Requirement already satisfied: attrs>=22.2.0 in c:\\users\\arunesh\\anaconda3\\lib\\site-packages (from jsonschema>=3.0->altair<6,>=4.0->streamlit) (23.1.0)\n",
            "Requirement already satisfied: jsonschema-specifications>=2023.03.6 in c:\\users\\arunesh\\anaconda3\\lib\\site-packages (from jsonschema>=3.0->altair<6,>=4.0->streamlit) (2023.7.1)\n",
            "Requirement already satisfied: referencing>=0.28.4 in c:\\users\\arunesh\\anaconda3\\lib\\site-packages (from jsonschema>=3.0->altair<6,>=4.0->streamlit) (0.30.2)\n",
            "Requirement already satisfied: rpds-py>=0.7.1 in c:\\users\\arunesh\\anaconda3\\lib\\site-packages (from jsonschema>=3.0->altair<6,>=4.0->streamlit) (0.10.6)\n",
            "Requirement already satisfied: mdurl~=0.1 in c:\\users\\arunesh\\anaconda3\\lib\\site-packages (from markdown-it-py>=2.2.0->rich<14,>=10.14.0->streamlit) (0.1.0)\n",
            "Requirement already satisfied: six>=1.5 in c:\\users\\arunesh\\anaconda3\\lib\\site-packages (from python-dateutil>=2.8.2->pandas<3,>=1.3.0->streamlit) (1.16.0)\n",
            "Collecting yfinance\n",
            "  Downloading yfinance-0.2.55-py2.py3-none-any.whl.metadata (5.8 kB)\n",
            "Requirement already satisfied: pandas>=1.3.0 in c:\\users\\arunesh\\anaconda3\\lib\\site-packages (from yfinance) (2.2.2)\n",
            "Requirement already satisfied: numpy>=1.16.5 in c:\\users\\arunesh\\anaconda3\\lib\\site-packages (from yfinance) (1.26.4)\n",
            "Requirement already satisfied: requests>=2.31 in c:\\users\\arunesh\\anaconda3\\lib\\site-packages (from yfinance) (2.32.3)\n",
            "Collecting multitasking>=0.0.7 (from yfinance)\n",
            "  Downloading multitasking-0.0.11-py3-none-any.whl.metadata (5.5 kB)\n",
            "Requirement already satisfied: platformdirs>=2.0.0 in c:\\users\\arunesh\\anaconda3\\lib\\site-packages (from yfinance) (3.10.0)\n",
            "Requirement already satisfied: pytz>=2022.5 in c:\\users\\arunesh\\anaconda3\\lib\\site-packages (from yfinance) (2024.1)\n",
            "Requirement already satisfied: frozendict>=2.3.4 in c:\\users\\arunesh\\anaconda3\\lib\\site-packages (from yfinance) (2.4.2)\n",
            "Collecting peewee>=3.16.2 (from yfinance)\n",
            "  Downloading peewee-3.17.9.tar.gz (3.0 MB)\n",
            "     ---------------------------------------- 0.0/3.0 MB ? eta -:--:--\n",
            "     -------------------------------------- - 2.9/3.0 MB 16.8 MB/s eta 0:00:01\n",
            "     ---------------------------------------- 3.0/3.0 MB 16.2 MB/s eta 0:00:00\n",
            "  Installing build dependencies: started\n",
            "  Installing build dependencies: finished with status 'done'\n",
            "  Getting requirements to build wheel: started\n",
            "  Getting requirements to build wheel: finished with status 'done'\n",
            "  Preparing metadata (pyproject.toml): started\n",
            "  Preparing metadata (pyproject.toml): finished with status 'done'\n",
            "Requirement already satisfied: beautifulsoup4>=4.11.1 in c:\\users\\arunesh\\anaconda3\\lib\\site-packages (from yfinance) (4.12.3)\n",
            "Requirement already satisfied: soupsieve>1.2 in c:\\users\\arunesh\\anaconda3\\lib\\site-packages (from beautifulsoup4>=4.11.1->yfinance) (2.5)\n",
            "Requirement already satisfied: python-dateutil>=2.8.2 in c:\\users\\arunesh\\anaconda3\\lib\\site-packages (from pandas>=1.3.0->yfinance) (2.9.0.post0)\n",
            "Requirement already satisfied: tzdata>=2022.7 in c:\\users\\arunesh\\anaconda3\\lib\\site-packages (from pandas>=1.3.0->yfinance) (2023.3)\n",
            "Requirement already satisfied: charset-normalizer<4,>=2 in c:\\users\\arunesh\\anaconda3\\lib\\site-packages (from requests>=2.31->yfinance) (3.3.2)\n",
            "Requirement already satisfied: idna<4,>=2.5 in c:\\users\\arunesh\\anaconda3\\lib\\site-packages (from requests>=2.31->yfinance) (3.7)\n",
            "Requirement already satisfied: urllib3<3,>=1.21.1 in c:\\users\\arunesh\\anaconda3\\lib\\site-packages (from requests>=2.31->yfinance) (2.2.3)\n",
            "Requirement already satisfied: certifi>=2017.4.17 in c:\\users\\arunesh\\anaconda3\\lib\\site-packages (from requests>=2.31->yfinance) (2025.1.31)\n",
            "Requirement already satisfied: six>=1.5 in c:\\users\\arunesh\\anaconda3\\lib\\site-packages (from python-dateutil>=2.8.2->pandas>=1.3.0->yfinance) (1.16.0)\n",
            "Downloading yfinance-0.2.55-py2.py3-none-any.whl (109 kB)\n",
            "Downloading multitasking-0.0.11-py3-none-any.whl (8.5 kB)\n",
            "Building wheels for collected packages: peewee\n",
            "  Building wheel for peewee (pyproject.toml): started\n",
            "  Building wheel for peewee (pyproject.toml): finished with status 'done'\n",
            "  Created wheel for peewee: filename=peewee-3.17.9-py3-none-any.whl size=139127 sha256=8c1a0cd321bb0094b89df182b82c0b73a6eda7d2b9d60dda6d8e5a01ecda437c\n",
            "  Stored in directory: c:\\users\\arunesh\\appdata\\local\\pip\\cache\\wheels\\43\\ef\\2d\\2c51d496bf084945ffdf838b4cc8767b8ba1cc20eb41588831\n",
            "Successfully built peewee\n",
            "Installing collected packages: peewee, multitasking, yfinance\n",
            "Successfully installed multitasking-0.0.11 peewee-3.17.9 yfinance-0.2.55\n"
          ]
        }
      ],
      "source": [
        "!pip install streamlit\n",
        "!pip install streamlit ngrok\n",
        "!pip install yfinance\n"
      ]
    },
    {
      "cell_type": "markdown",
      "metadata": {
        "id": "R7pneBynnnJI"
      },
      "source": [
        "### Fetching a live stock data"
      ]
    },
    {
      "cell_type": "code",
      "execution_count": 4,
      "metadata": {
        "colab": {
          "base_uri": "https://localhost:8080/"
        },
        "id": "IOG0doyjIKsZ",
        "outputId": "71580d49-f109-4538-8988-73172cf97766"
      },
      "outputs": [
        {
          "name": "stderr",
          "output_type": "stream",
          "text": [
            "404 Client Error: Not Found for url: https://query2.finance.yahoo.com/v10/finance/quoteSummary/SQ?modules=financialData%2CquoteType%2CdefaultKeyStatistics%2CassetProfile%2CsummaryDetail&corsDomain=finance.yahoo.com&formatted=false&symbol=SQ&crumb=Re%2Fy.7pTj.g\n"
          ]
        },
        {
          "name": "stdout",
          "output_type": "stream",
          "text": [
            "Error fetching data for SQ: 'NoneType' object has no attribute 'update'\n",
            "   Ticker       Price  Change (%)     Market Cap  Market Cap (B)\n",
            "0    AAPL  172.770004    0.063709  2590110646272     2590.110646\n",
            "1    MSFT  355.570007    0.138003  2635791859712     2635.791860\n",
            "2   GOOGL  144.699997   -0.027642  1777393467392     1777.393467\n",
            "3    AMZN  171.089996    0.134611  1808603414528     1808.603415\n",
            "4    TSLA  221.580002   -0.267807   713617113088      713.617113\n",
            "5    NVDA   96.709999    0.203490  2349719879680     2349.719880\n",
            "6    META  510.790009    0.282714  1293306691584     1293.306692\n",
            "7    ADBE  340.019989    0.366016   144907993088      144.907993\n",
            "8    NFLX  870.750000    0.272921   372319682560      372.319683\n",
            "9     CRM  244.039993    0.205305   234474389504      234.474390\n",
            "10    AMD   78.190002    0.012794   127062310912      127.062311\n",
            "11   INTC   18.150000    0.693481    79057485824       79.057486\n",
            "12   ORCL  124.459999    0.298173   349126623232      349.126623\n",
            "13    IBM  221.050003    0.194909   204953157632      204.953158\n",
            "14   CSCO   53.240002   -0.037545   211605241856      211.605242\n",
            "15   UBER   65.029999    0.525578   136078286848      136.078287\n",
            "16   PYPL   57.419998    0.244412    56792383488       56.792383\n",
            "17   SHOP   77.120003    0.299133    99853901824       99.853902\n",
            "18   SNOW  133.570007    0.541966    44605689856       44.605690\n",
            "19   ASML  595.940002    0.385745   236797116416      236.797116\n",
            "20   AVGO  156.289993   -0.210702   733645242368      733.645242\n",
            "21    TXN  146.080002   -0.095746   132857126912      132.857127\n",
            "22   QCOM  124.800003    0.329611   137873965056      137.873965\n",
            "23    NOW  728.520020    0.547931   150614654976      150.614655\n",
            "24     ZM   66.720001    0.398765    20359106560       20.359107\n",
            "25   TWLO   81.339996    0.357796    12415249408       12.415249\n",
            "26   PLTR   77.320000    0.729543   181343223808      181.343224\n",
            "27   DOCU   70.389999    0.413696    14245171200       14.245171\n",
            "28   WDAY  210.664993    0.237908    55985020928       55.985021\n",
            "29   TEAM  184.070007    0.672725    48166080512       48.166081\n",
            "30   FSLY    5.010000    0.804838      711500032        0.711500\n",
            "31   CRWD  325.510010    0.540524    80568639488       80.568639\n",
            "32   OKTA   91.449997    0.384192    15865578496       15.865578\n",
            "33   DDOG   87.010002    0.490851    29820467200       29.820467\n",
            "34    NET   97.419998   -0.015394    33627557888       33.627558\n",
            "35   PINS   24.670000    0.284552    16738888704       16.738889\n",
            "36   SNAP    7.230000    0.556328    12264682496       12.264682\n",
            "37   ROKU   55.080002   -0.199306     8041513984        8.041514\n",
            "38   SPOT  518.260010    0.590047   106109870080      106.109870\n",
            "39     ZS  177.110001    0.294470    27392512000       27.392512\n",
            "40    MDB  145.929993    0.178482    11841225728       11.841226\n",
            "41   VEEV  209.360001    0.004774    34066915328       34.066915\n",
            "42   PANW  152.759995    0.334972   100990107648      100.990108\n",
            "43    FIS   68.150002    0.220590    36093210624       36.093211\n",
            "44   ADSK  238.949997    0.492051    50872918016       50.872918\n",
            "45    SAP  237.740005    0.278389   278952869888      278.952870\n",
            "46   INTU  544.380005   -0.051402   152101289984      152.101290\n",
            "47   ANET   69.510002    0.680767    87647838208       87.647838\n",
            "48     SE  105.480003    1.345121    60633071616       60.633072\n"
          ]
        }
      ],
      "source": [
        "import yfinance as yf\n",
        "import pandas as pd\n",
        "import plotly.express as px\n",
        "\n",
        "# Define top 50 tech stock tickers\n",
        "top_tech_tickers = [\n",
        "    \"AAPL\", \"MSFT\", \"GOOGL\", \"AMZN\", \"TSLA\", \"NVDA\", \"META\", \"ADBE\", \"NFLX\", \"CRM\",\n",
        "    \"AMD\", \"INTC\", \"ORCL\", \"IBM\", \"CSCO\", \"UBER\", \"PYPL\", \"SHOP\", \"SQ\", \"SNOW\",\n",
        "    \"ASML\", \"AVGO\", \"TXN\", \"QCOM\", \"NOW\", \"ZM\", \"TWLO\", \"PLTR\", \"DOCU\", \"WDAY\",\n",
        "    \"TEAM\", \"FSLY\", \"CRWD\", \"OKTA\", \"DDOG\", \"NET\", \"PINS\", \"SNAP\", \"ROKU\", \"SPOT\",\n",
        "    \"ZS\", \"MDB\", \"VEEV\", \"PANW\", \"FIS\", \"ADSK\", \"SAP\", \"INTU\", \"ANET\", \"SE\"\n",
        "]\n",
        "\n",
        "# Function to get live stock data and market cap\n",
        "def get_stock_data(tickers):\n",
        "    data = []\n",
        "    for ticker in tickers:\n",
        "        try:\n",
        "            stock = yf.Ticker(ticker)\n",
        "            info = stock.info\n",
        "            hist = stock.history(period=\"1d\", interval=\"5m\")  # 5-minute interval\n",
        "\n",
        "            if hist.empty:\n",
        "                print(f\"Warning: No recent data available for {ticker}, skipping...\")\n",
        "                continue\n",
        "\n",
        "            latest = hist.iloc[-1]  # Get the most recent data\n",
        "\n",
        "            data.append({\n",
        "                \"Ticker\": ticker,\n",
        "                \"Price\": latest[\"Close\"],\n",
        "                \"Change (%)\": ((latest[\"Close\"] - latest[\"Open\"]) / latest[\"Open\"]) * 100,\n",
        "                \"Market Cap\": info.get(\"marketCap\", 0)  # Get market cap (0 if unavailable)\n",
        "            })\n",
        "        except Exception as e:\n",
        "            print(f\"Error fetching data for {ticker}: {e}\")\n",
        "    return pd.DataFrame(data)\n",
        "\n",
        "# Fetch stock data\n",
        "df = get_stock_data(top_tech_tickers)\n",
        "\n",
        "# Convert Market Cap to Billions\n",
        "df[\"Market Cap (B)\"] = df[\"Market Cap\"] / 1e9  # Convert to billions\n",
        "\n",
        "# Display DataFrame\n",
        "print(df)\n"
      ]
    },
    {
      "cell_type": "markdown",
      "metadata": {
        "id": "4h9Ce2rrIWww"
      },
      "source": [
        "### Stock Real-Time Heatmap"
      ]
    },
    {
      "cell_type": "code",
      "execution_count": 5,
      "metadata": {
        "colab": {
          "base_uri": "https://localhost:8080/",
          "height": 542
        },
        "id": "JEH7-zrGIGVa",
        "outputId": "40ffa10d-226c-4075-eb37-3028607f866c"
      },
      "outputs": [
        {
          "data": {
            "application/vnd.plotly.v1+json": {
              "config": {
                "plotlyServerURL": "https://plot.ly"
              },
              "data": [
                {
                  "branchvalues": "total",
                  "customdata": [
                    [
                      0.06370937566225847
                    ],
                    [
                      0.36601636426086936
                    ],
                    [
                      0.49205070861796235
                    ],
                    [
                      0.012793727540835752
                    ],
                    [
                      0.13461063251636685
                    ],
                    [
                      0.6807665331264792
                    ],
                    [
                      0.385745461663878
                    ],
                    [
                      -0.21070223556562545
                    ],
                    [
                      0.20530508901367783
                    ],
                    [
                      0.5405238285194186
                    ],
                    [
                      -0.037545331762283474
                    ],
                    [
                      0.49085067419493517
                    ],
                    [
                      0.41369603686140416
                    ],
                    [
                      0.22059047923368566
                    ],
                    [
                      0.8048378345835518
                    ],
                    [
                      -0.027641663260655716
                    ],
                    [
                      0.19490886777597094
                    ],
                    [
                      0.6934812906819483
                    ],
                    [
                      -0.051402393332189565
                    ],
                    [
                      0.17848184945701775
                    ],
                    [
                      0.2827137379308477
                    ],
                    [
                      0.13800292060487512
                    ],
                    [
                      -0.015394252603554929
                    ],
                    [
                      0.2729214288515694
                    ],
                    [
                      0.5479306887264261
                    ],
                    [
                      0.20349035523541031
                    ],
                    [
                      0.38419152577759735
                    ],
                    [
                      0.29817290474772273
                    ],
                    [
                      0.334971761468596
                    ],
                    [
                      0.28455160056398593
                    ],
                    [
                      0.7295434380002876
                    ],
                    [
                      0.24441234747204377
                    ],
                    [
                      0.32961143510021995
                    ],
                    [
                      -0.19930566840250719
                    ],
                    [
                      0.2783885848708992
                    ],
                    [
                      1.3451205815228793
                    ],
                    [
                      0.2991329935744006
                    ],
                    [
                      0.5563276986744656
                    ],
                    [
                      0.5419655157125894
                    ],
                    [
                      0.590046821816948
                    ],
                    [
                      0.6727253396215613
                    ],
                    [
                      -0.26780745472275913
                    ],
                    [
                      0.3577955277159278
                    ],
                    [
                      -0.09574571774016313
                    ],
                    [
                      0.5255778714780245
                    ],
                    [
                      0.004774065700765061
                    ],
                    [
                      0.23790831773741988
                    ],
                    [
                      0.39876515288064024
                    ],
                    [
                      0.2944698359163854
                    ]
                  ],
                  "domain": {
                    "x": [
                      0,
                      1
                    ],
                    "y": [
                      0,
                      1
                    ]
                  },
                  "hovertemplate": "labels=%{label}<br>Market Cap (B)=%{value}<br>parent=%{parent}<br>id=%{id}<br>Change (%)=%{color}<extra></extra>",
                  "ids": [
                    "AAPL",
                    "ADBE",
                    "ADSK",
                    "AMD",
                    "AMZN",
                    "ANET",
                    "ASML",
                    "AVGO",
                    "CRM",
                    "CRWD",
                    "CSCO",
                    "DDOG",
                    "DOCU",
                    "FIS",
                    "FSLY",
                    "GOOGL",
                    "IBM",
                    "INTC",
                    "INTU",
                    "MDB",
                    "META",
                    "MSFT",
                    "NET",
                    "NFLX",
                    "NOW",
                    "NVDA",
                    "OKTA",
                    "ORCL",
                    "PANW",
                    "PINS",
                    "PLTR",
                    "PYPL",
                    "QCOM",
                    "ROKU",
                    "SAP",
                    "SE",
                    "SHOP",
                    "SNAP",
                    "SNOW",
                    "SPOT",
                    "TEAM",
                    "TSLA",
                    "TWLO",
                    "TXN",
                    "UBER",
                    "VEEV",
                    "WDAY",
                    "ZM",
                    "ZS"
                  ],
                  "labels": [
                    "AAPL",
                    "ADBE",
                    "ADSK",
                    "AMD",
                    "AMZN",
                    "ANET",
                    "ASML",
                    "AVGO",
                    "CRM",
                    "CRWD",
                    "CSCO",
                    "DDOG",
                    "DOCU",
                    "FIS",
                    "FSLY",
                    "GOOGL",
                    "IBM",
                    "INTC",
                    "INTU",
                    "MDB",
                    "META",
                    "MSFT",
                    "NET",
                    "NFLX",
                    "NOW",
                    "NVDA",
                    "OKTA",
                    "ORCL",
                    "PANW",
                    "PINS",
                    "PLTR",
                    "PYPL",
                    "QCOM",
                    "ROKU",
                    "SAP",
                    "SE",
                    "SHOP",
                    "SNAP",
                    "SNOW",
                    "SPOT",
                    "TEAM",
                    "TSLA",
                    "TWLO",
                    "TXN",
                    "UBER",
                    "VEEV",
                    "WDAY",
                    "ZM",
                    "ZS"
                  ],
                  "marker": {
                    "coloraxis": "coloraxis",
                    "colors": [
                      0.06370937566225847,
                      0.36601636426086936,
                      0.49205070861796235,
                      0.012793727540835752,
                      0.13461063251636685,
                      0.6807665331264792,
                      0.385745461663878,
                      -0.21070223556562545,
                      0.20530508901367783,
                      0.5405238285194186,
                      -0.037545331762283474,
                      0.49085067419493517,
                      0.41369603686140416,
                      0.22059047923368566,
                      0.8048378345835518,
                      -0.027641663260655716,
                      0.19490886777597094,
                      0.6934812906819483,
                      -0.051402393332189565,
                      0.17848184945701775,
                      0.2827137379308477,
                      0.13800292060487512,
                      -0.015394252603554929,
                      0.2729214288515694,
                      0.5479306887264261,
                      0.20349035523541031,
                      0.38419152577759735,
                      0.29817290474772273,
                      0.334971761468596,
                      0.28455160056398593,
                      0.7295434380002876,
                      0.24441234747204377,
                      0.32961143510021995,
                      -0.19930566840250719,
                      0.2783885848708992,
                      1.3451205815228793,
                      0.2991329935744006,
                      0.5563276986744656,
                      0.5419655157125894,
                      0.590046821816948,
                      0.6727253396215613,
                      -0.26780745472275913,
                      0.3577955277159278,
                      -0.09574571774016313,
                      0.5255778714780245,
                      0.004774065700765061,
                      0.23790831773741988,
                      0.39876515288064024,
                      0.2944698359163854
                    ]
                  },
                  "name": "",
                  "parents": [
                    "",
                    "",
                    "",
                    "",
                    "",
                    "",
                    "",
                    "",
                    "",
                    "",
                    "",
                    "",
                    "",
                    "",
                    "",
                    "",
                    "",
                    "",
                    "",
                    "",
                    "",
                    "",
                    "",
                    "",
                    "",
                    "",
                    "",
                    "",
                    "",
                    "",
                    "",
                    "",
                    "",
                    "",
                    "",
                    "",
                    "",
                    "",
                    "",
                    "",
                    "",
                    "",
                    "",
                    "",
                    "",
                    "",
                    "",
                    "",
                    ""
                  ],
                  "type": "treemap",
                  "values": [
                    2590.110646272,
                    144.907993088,
                    50.872918016,
                    127.062310912,
                    1808.603414528,
                    87.647838208,
                    236.797116416,
                    733.645242368,
                    234.474389504,
                    80.568639488,
                    211.605241856,
                    29.8204672,
                    14.2451712,
                    36.093210624,
                    0.711500032,
                    1777.393467392,
                    204.953157632,
                    79.057485824,
                    152.101289984,
                    11.841225728,
                    1293.306691584,
                    2635.791859712,
                    33.627557888,
                    372.31968256,
                    150.614654976,
                    2349.71987968,
                    15.865578496,
                    349.126623232,
                    100.990107648,
                    16.738888704,
                    181.343223808,
                    56.792383488,
                    137.873965056,
                    8.041513984,
                    278.952869888,
                    60.633071616,
                    99.853901824,
                    12.264682496,
                    44.605689856,
                    106.10987008,
                    48.166080512,
                    713.617113088,
                    12.415249408,
                    132.857126912,
                    136.078286848,
                    34.066915328,
                    55.985020928,
                    20.35910656,
                    27.392512
                  ]
                }
              ],
              "layout": {
                "coloraxis": {
                  "colorbar": {
                    "title": {
                      "text": "Change (%)"
                    }
                  },
                  "colorscale": [
                    [
                      0,
                      "red"
                    ],
                    [
                      0.5,
                      "white"
                    ],
                    [
                      1,
                      "green"
                    ]
                  ]
                },
                "legend": {
                  "tracegroupgap": 0
                },
                "template": {
                  "data": {
                    "bar": [
                      {
                        "error_x": {
                          "color": "#2a3f5f"
                        },
                        "error_y": {
                          "color": "#2a3f5f"
                        },
                        "marker": {
                          "line": {
                            "color": "#E5ECF6",
                            "width": 0.5
                          },
                          "pattern": {
                            "fillmode": "overlay",
                            "size": 10,
                            "solidity": 0.2
                          }
                        },
                        "type": "bar"
                      }
                    ],
                    "barpolar": [
                      {
                        "marker": {
                          "line": {
                            "color": "#E5ECF6",
                            "width": 0.5
                          },
                          "pattern": {
                            "fillmode": "overlay",
                            "size": 10,
                            "solidity": 0.2
                          }
                        },
                        "type": "barpolar"
                      }
                    ],
                    "carpet": [
                      {
                        "aaxis": {
                          "endlinecolor": "#2a3f5f",
                          "gridcolor": "white",
                          "linecolor": "white",
                          "minorgridcolor": "white",
                          "startlinecolor": "#2a3f5f"
                        },
                        "baxis": {
                          "endlinecolor": "#2a3f5f",
                          "gridcolor": "white",
                          "linecolor": "white",
                          "minorgridcolor": "white",
                          "startlinecolor": "#2a3f5f"
                        },
                        "type": "carpet"
                      }
                    ],
                    "choropleth": [
                      {
                        "colorbar": {
                          "outlinewidth": 0,
                          "ticks": ""
                        },
                        "type": "choropleth"
                      }
                    ],
                    "contour": [
                      {
                        "colorbar": {
                          "outlinewidth": 0,
                          "ticks": ""
                        },
                        "colorscale": [
                          [
                            0,
                            "#0d0887"
                          ],
                          [
                            0.1111111111111111,
                            "#46039f"
                          ],
                          [
                            0.2222222222222222,
                            "#7201a8"
                          ],
                          [
                            0.3333333333333333,
                            "#9c179e"
                          ],
                          [
                            0.4444444444444444,
                            "#bd3786"
                          ],
                          [
                            0.5555555555555556,
                            "#d8576b"
                          ],
                          [
                            0.6666666666666666,
                            "#ed7953"
                          ],
                          [
                            0.7777777777777778,
                            "#fb9f3a"
                          ],
                          [
                            0.8888888888888888,
                            "#fdca26"
                          ],
                          [
                            1,
                            "#f0f921"
                          ]
                        ],
                        "type": "contour"
                      }
                    ],
                    "contourcarpet": [
                      {
                        "colorbar": {
                          "outlinewidth": 0,
                          "ticks": ""
                        },
                        "type": "contourcarpet"
                      }
                    ],
                    "heatmap": [
                      {
                        "colorbar": {
                          "outlinewidth": 0,
                          "ticks": ""
                        },
                        "colorscale": [
                          [
                            0,
                            "#0d0887"
                          ],
                          [
                            0.1111111111111111,
                            "#46039f"
                          ],
                          [
                            0.2222222222222222,
                            "#7201a8"
                          ],
                          [
                            0.3333333333333333,
                            "#9c179e"
                          ],
                          [
                            0.4444444444444444,
                            "#bd3786"
                          ],
                          [
                            0.5555555555555556,
                            "#d8576b"
                          ],
                          [
                            0.6666666666666666,
                            "#ed7953"
                          ],
                          [
                            0.7777777777777778,
                            "#fb9f3a"
                          ],
                          [
                            0.8888888888888888,
                            "#fdca26"
                          ],
                          [
                            1,
                            "#f0f921"
                          ]
                        ],
                        "type": "heatmap"
                      }
                    ],
                    "heatmapgl": [
                      {
                        "colorbar": {
                          "outlinewidth": 0,
                          "ticks": ""
                        },
                        "colorscale": [
                          [
                            0,
                            "#0d0887"
                          ],
                          [
                            0.1111111111111111,
                            "#46039f"
                          ],
                          [
                            0.2222222222222222,
                            "#7201a8"
                          ],
                          [
                            0.3333333333333333,
                            "#9c179e"
                          ],
                          [
                            0.4444444444444444,
                            "#bd3786"
                          ],
                          [
                            0.5555555555555556,
                            "#d8576b"
                          ],
                          [
                            0.6666666666666666,
                            "#ed7953"
                          ],
                          [
                            0.7777777777777778,
                            "#fb9f3a"
                          ],
                          [
                            0.8888888888888888,
                            "#fdca26"
                          ],
                          [
                            1,
                            "#f0f921"
                          ]
                        ],
                        "type": "heatmapgl"
                      }
                    ],
                    "histogram": [
                      {
                        "marker": {
                          "pattern": {
                            "fillmode": "overlay",
                            "size": 10,
                            "solidity": 0.2
                          }
                        },
                        "type": "histogram"
                      }
                    ],
                    "histogram2d": [
                      {
                        "colorbar": {
                          "outlinewidth": 0,
                          "ticks": ""
                        },
                        "colorscale": [
                          [
                            0,
                            "#0d0887"
                          ],
                          [
                            0.1111111111111111,
                            "#46039f"
                          ],
                          [
                            0.2222222222222222,
                            "#7201a8"
                          ],
                          [
                            0.3333333333333333,
                            "#9c179e"
                          ],
                          [
                            0.4444444444444444,
                            "#bd3786"
                          ],
                          [
                            0.5555555555555556,
                            "#d8576b"
                          ],
                          [
                            0.6666666666666666,
                            "#ed7953"
                          ],
                          [
                            0.7777777777777778,
                            "#fb9f3a"
                          ],
                          [
                            0.8888888888888888,
                            "#fdca26"
                          ],
                          [
                            1,
                            "#f0f921"
                          ]
                        ],
                        "type": "histogram2d"
                      }
                    ],
                    "histogram2dcontour": [
                      {
                        "colorbar": {
                          "outlinewidth": 0,
                          "ticks": ""
                        },
                        "colorscale": [
                          [
                            0,
                            "#0d0887"
                          ],
                          [
                            0.1111111111111111,
                            "#46039f"
                          ],
                          [
                            0.2222222222222222,
                            "#7201a8"
                          ],
                          [
                            0.3333333333333333,
                            "#9c179e"
                          ],
                          [
                            0.4444444444444444,
                            "#bd3786"
                          ],
                          [
                            0.5555555555555556,
                            "#d8576b"
                          ],
                          [
                            0.6666666666666666,
                            "#ed7953"
                          ],
                          [
                            0.7777777777777778,
                            "#fb9f3a"
                          ],
                          [
                            0.8888888888888888,
                            "#fdca26"
                          ],
                          [
                            1,
                            "#f0f921"
                          ]
                        ],
                        "type": "histogram2dcontour"
                      }
                    ],
                    "mesh3d": [
                      {
                        "colorbar": {
                          "outlinewidth": 0,
                          "ticks": ""
                        },
                        "type": "mesh3d"
                      }
                    ],
                    "parcoords": [
                      {
                        "line": {
                          "colorbar": {
                            "outlinewidth": 0,
                            "ticks": ""
                          }
                        },
                        "type": "parcoords"
                      }
                    ],
                    "pie": [
                      {
                        "automargin": true,
                        "type": "pie"
                      }
                    ],
                    "scatter": [
                      {
                        "fillpattern": {
                          "fillmode": "overlay",
                          "size": 10,
                          "solidity": 0.2
                        },
                        "type": "scatter"
                      }
                    ],
                    "scatter3d": [
                      {
                        "line": {
                          "colorbar": {
                            "outlinewidth": 0,
                            "ticks": ""
                          }
                        },
                        "marker": {
                          "colorbar": {
                            "outlinewidth": 0,
                            "ticks": ""
                          }
                        },
                        "type": "scatter3d"
                      }
                    ],
                    "scattercarpet": [
                      {
                        "marker": {
                          "colorbar": {
                            "outlinewidth": 0,
                            "ticks": ""
                          }
                        },
                        "type": "scattercarpet"
                      }
                    ],
                    "scattergeo": [
                      {
                        "marker": {
                          "colorbar": {
                            "outlinewidth": 0,
                            "ticks": ""
                          }
                        },
                        "type": "scattergeo"
                      }
                    ],
                    "scattergl": [
                      {
                        "marker": {
                          "colorbar": {
                            "outlinewidth": 0,
                            "ticks": ""
                          }
                        },
                        "type": "scattergl"
                      }
                    ],
                    "scattermapbox": [
                      {
                        "marker": {
                          "colorbar": {
                            "outlinewidth": 0,
                            "ticks": ""
                          }
                        },
                        "type": "scattermapbox"
                      }
                    ],
                    "scatterpolar": [
                      {
                        "marker": {
                          "colorbar": {
                            "outlinewidth": 0,
                            "ticks": ""
                          }
                        },
                        "type": "scatterpolar"
                      }
                    ],
                    "scatterpolargl": [
                      {
                        "marker": {
                          "colorbar": {
                            "outlinewidth": 0,
                            "ticks": ""
                          }
                        },
                        "type": "scatterpolargl"
                      }
                    ],
                    "scatterternary": [
                      {
                        "marker": {
                          "colorbar": {
                            "outlinewidth": 0,
                            "ticks": ""
                          }
                        },
                        "type": "scatterternary"
                      }
                    ],
                    "surface": [
                      {
                        "colorbar": {
                          "outlinewidth": 0,
                          "ticks": ""
                        },
                        "colorscale": [
                          [
                            0,
                            "#0d0887"
                          ],
                          [
                            0.1111111111111111,
                            "#46039f"
                          ],
                          [
                            0.2222222222222222,
                            "#7201a8"
                          ],
                          [
                            0.3333333333333333,
                            "#9c179e"
                          ],
                          [
                            0.4444444444444444,
                            "#bd3786"
                          ],
                          [
                            0.5555555555555556,
                            "#d8576b"
                          ],
                          [
                            0.6666666666666666,
                            "#ed7953"
                          ],
                          [
                            0.7777777777777778,
                            "#fb9f3a"
                          ],
                          [
                            0.8888888888888888,
                            "#fdca26"
                          ],
                          [
                            1,
                            "#f0f921"
                          ]
                        ],
                        "type": "surface"
                      }
                    ],
                    "table": [
                      {
                        "cells": {
                          "fill": {
                            "color": "#EBF0F8"
                          },
                          "line": {
                            "color": "white"
                          }
                        },
                        "header": {
                          "fill": {
                            "color": "#C8D4E3"
                          },
                          "line": {
                            "color": "white"
                          }
                        },
                        "type": "table"
                      }
                    ]
                  },
                  "layout": {
                    "annotationdefaults": {
                      "arrowcolor": "#2a3f5f",
                      "arrowhead": 0,
                      "arrowwidth": 1
                    },
                    "autotypenumbers": "strict",
                    "coloraxis": {
                      "colorbar": {
                        "outlinewidth": 0,
                        "ticks": ""
                      }
                    },
                    "colorscale": {
                      "diverging": [
                        [
                          0,
                          "#8e0152"
                        ],
                        [
                          0.1,
                          "#c51b7d"
                        ],
                        [
                          0.2,
                          "#de77ae"
                        ],
                        [
                          0.3,
                          "#f1b6da"
                        ],
                        [
                          0.4,
                          "#fde0ef"
                        ],
                        [
                          0.5,
                          "#f7f7f7"
                        ],
                        [
                          0.6,
                          "#e6f5d0"
                        ],
                        [
                          0.7,
                          "#b8e186"
                        ],
                        [
                          0.8,
                          "#7fbc41"
                        ],
                        [
                          0.9,
                          "#4d9221"
                        ],
                        [
                          1,
                          "#276419"
                        ]
                      ],
                      "sequential": [
                        [
                          0,
                          "#0d0887"
                        ],
                        [
                          0.1111111111111111,
                          "#46039f"
                        ],
                        [
                          0.2222222222222222,
                          "#7201a8"
                        ],
                        [
                          0.3333333333333333,
                          "#9c179e"
                        ],
                        [
                          0.4444444444444444,
                          "#bd3786"
                        ],
                        [
                          0.5555555555555556,
                          "#d8576b"
                        ],
                        [
                          0.6666666666666666,
                          "#ed7953"
                        ],
                        [
                          0.7777777777777778,
                          "#fb9f3a"
                        ],
                        [
                          0.8888888888888888,
                          "#fdca26"
                        ],
                        [
                          1,
                          "#f0f921"
                        ]
                      ],
                      "sequentialminus": [
                        [
                          0,
                          "#0d0887"
                        ],
                        [
                          0.1111111111111111,
                          "#46039f"
                        ],
                        [
                          0.2222222222222222,
                          "#7201a8"
                        ],
                        [
                          0.3333333333333333,
                          "#9c179e"
                        ],
                        [
                          0.4444444444444444,
                          "#bd3786"
                        ],
                        [
                          0.5555555555555556,
                          "#d8576b"
                        ],
                        [
                          0.6666666666666666,
                          "#ed7953"
                        ],
                        [
                          0.7777777777777778,
                          "#fb9f3a"
                        ],
                        [
                          0.8888888888888888,
                          "#fdca26"
                        ],
                        [
                          1,
                          "#f0f921"
                        ]
                      ]
                    },
                    "colorway": [
                      "#636efa",
                      "#EF553B",
                      "#00cc96",
                      "#ab63fa",
                      "#FFA15A",
                      "#19d3f3",
                      "#FF6692",
                      "#B6E880",
                      "#FF97FF",
                      "#FECB52"
                    ],
                    "font": {
                      "color": "#2a3f5f"
                    },
                    "geo": {
                      "bgcolor": "white",
                      "lakecolor": "white",
                      "landcolor": "#E5ECF6",
                      "showlakes": true,
                      "showland": true,
                      "subunitcolor": "white"
                    },
                    "hoverlabel": {
                      "align": "left"
                    },
                    "hovermode": "closest",
                    "mapbox": {
                      "style": "light"
                    },
                    "paper_bgcolor": "white",
                    "plot_bgcolor": "#E5ECF6",
                    "polar": {
                      "angularaxis": {
                        "gridcolor": "white",
                        "linecolor": "white",
                        "ticks": ""
                      },
                      "bgcolor": "#E5ECF6",
                      "radialaxis": {
                        "gridcolor": "white",
                        "linecolor": "white",
                        "ticks": ""
                      }
                    },
                    "scene": {
                      "xaxis": {
                        "backgroundcolor": "#E5ECF6",
                        "gridcolor": "white",
                        "gridwidth": 2,
                        "linecolor": "white",
                        "showbackground": true,
                        "ticks": "",
                        "zerolinecolor": "white"
                      },
                      "yaxis": {
                        "backgroundcolor": "#E5ECF6",
                        "gridcolor": "white",
                        "gridwidth": 2,
                        "linecolor": "white",
                        "showbackground": true,
                        "ticks": "",
                        "zerolinecolor": "white"
                      },
                      "zaxis": {
                        "backgroundcolor": "#E5ECF6",
                        "gridcolor": "white",
                        "gridwidth": 2,
                        "linecolor": "white",
                        "showbackground": true,
                        "ticks": "",
                        "zerolinecolor": "white"
                      }
                    },
                    "shapedefaults": {
                      "line": {
                        "color": "#2a3f5f"
                      }
                    },
                    "ternary": {
                      "aaxis": {
                        "gridcolor": "white",
                        "linecolor": "white",
                        "ticks": ""
                      },
                      "baxis": {
                        "gridcolor": "white",
                        "linecolor": "white",
                        "ticks": ""
                      },
                      "bgcolor": "#E5ECF6",
                      "caxis": {
                        "gridcolor": "white",
                        "linecolor": "white",
                        "ticks": ""
                      }
                    },
                    "title": {
                      "x": 0.05
                    },
                    "xaxis": {
                      "automargin": true,
                      "gridcolor": "white",
                      "linecolor": "white",
                      "ticks": "",
                      "title": {
                        "standoff": 15
                      },
                      "zerolinecolor": "white",
                      "zerolinewidth": 2
                    },
                    "yaxis": {
                      "automargin": true,
                      "gridcolor": "white",
                      "linecolor": "white",
                      "ticks": "",
                      "title": {
                        "standoff": 15
                      },
                      "zerolinecolor": "white",
                      "zerolinewidth": 2
                    }
                  }
                },
                "title": {
                  "text": "Live Tech Stock Heatmap (Sized by Market Cap)"
                }
              }
            }
          },
          "metadata": {},
          "output_type": "display_data"
        }
      ],
      "source": [
        "\n",
        "# Create a Heatmap with Market Cap as Size\n",
        "fig = px.treemap(df,\n",
        "                 path=[\"Ticker\"],\n",
        "                 values=\"Market Cap (B)\",  # Market Cap as size\n",
        "                 color=\"Change (%)\",  # Color based on percentage change\n",
        "                 color_continuous_scale=[\"red\", \"white\", \"green\"],\n",
        "                 title=\"Live Tech Stock Heatmap (Sized by Market Cap)\")\n",
        "\n",
        "fig.show()\n"
      ]
    },
    {
      "cell_type": "markdown",
      "metadata": {
        "id": "_bD1Kl-OIkOO"
      },
      "source": [
        "### Install Libraries"
      ]
    },
    {
      "cell_type": "code",
      "execution_count": 6,
      "metadata": {
        "id": "QemnQ3N_I_Fe"
      },
      "outputs": [
        {
          "name": "stdout",
          "output_type": "stream",
          "text": [
            "Requirement already satisfied: yfinance in c:\\users\\arunesh\\anaconda3\\lib\\site-packages (0.2.55)\n",
            "Requirement already satisfied: ipywidgets in c:\\users\\arunesh\\anaconda3\\lib\\site-packages (7.8.1)\n",
            "Requirement already satisfied: pandas>=1.3.0 in c:\\users\\arunesh\\anaconda3\\lib\\site-packages (from yfinance) (2.2.2)\n",
            "Requirement already satisfied: numpy>=1.16.5 in c:\\users\\arunesh\\anaconda3\\lib\\site-packages (from yfinance) (1.26.4)\n",
            "Requirement already satisfied: requests>=2.31 in c:\\users\\arunesh\\anaconda3\\lib\\site-packages (from yfinance) (2.32.3)\n",
            "Requirement already satisfied: multitasking>=0.0.7 in c:\\users\\arunesh\\anaconda3\\lib\\site-packages (from yfinance) (0.0.11)\n",
            "Requirement already satisfied: platformdirs>=2.0.0 in c:\\users\\arunesh\\anaconda3\\lib\\site-packages (from yfinance) (3.10.0)\n",
            "Requirement already satisfied: pytz>=2022.5 in c:\\users\\arunesh\\anaconda3\\lib\\site-packages (from yfinance) (2024.1)\n",
            "Requirement already satisfied: frozendict>=2.3.4 in c:\\users\\arunesh\\anaconda3\\lib\\site-packages (from yfinance) (2.4.2)\n",
            "Requirement already satisfied: peewee>=3.16.2 in c:\\users\\arunesh\\anaconda3\\lib\\site-packages (from yfinance) (3.17.9)\n",
            "Requirement already satisfied: beautifulsoup4>=4.11.1 in c:\\users\\arunesh\\anaconda3\\lib\\site-packages (from yfinance) (4.12.3)\n",
            "Requirement already satisfied: comm>=0.1.3 in c:\\users\\arunesh\\anaconda3\\lib\\site-packages (from ipywidgets) (0.2.1)\n",
            "Requirement already satisfied: ipython-genutils~=0.2.0 in c:\\users\\arunesh\\anaconda3\\lib\\site-packages (from ipywidgets) (0.2.0)\n",
            "Requirement already satisfied: traitlets>=4.3.1 in c:\\users\\arunesh\\anaconda3\\lib\\site-packages (from ipywidgets) (5.14.3)\n",
            "Requirement already satisfied: widgetsnbextension~=3.6.6 in c:\\users\\arunesh\\anaconda3\\lib\\site-packages (from ipywidgets) (3.6.6)\n",
            "Requirement already satisfied: ipython>=4.0.0 in c:\\users\\arunesh\\anaconda3\\lib\\site-packages (from ipywidgets) (8.27.0)\n",
            "Requirement already satisfied: jupyterlab-widgets<3,>=1.0.0 in c:\\users\\arunesh\\anaconda3\\lib\\site-packages (from ipywidgets) (1.0.0)\n",
            "Requirement already satisfied: soupsieve>1.2 in c:\\users\\arunesh\\anaconda3\\lib\\site-packages (from beautifulsoup4>=4.11.1->yfinance) (2.5)\n",
            "Requirement already satisfied: decorator in c:\\users\\arunesh\\anaconda3\\lib\\site-packages (from ipython>=4.0.0->ipywidgets) (5.1.1)\n",
            "Requirement already satisfied: jedi>=0.16 in c:\\users\\arunesh\\anaconda3\\lib\\site-packages (from ipython>=4.0.0->ipywidgets) (0.19.1)\n",
            "Requirement already satisfied: matplotlib-inline in c:\\users\\arunesh\\anaconda3\\lib\\site-packages (from ipython>=4.0.0->ipywidgets) (0.1.6)\n",
            "Requirement already satisfied: prompt-toolkit<3.1.0,>=3.0.41 in c:\\users\\arunesh\\anaconda3\\lib\\site-packages (from ipython>=4.0.0->ipywidgets) (3.0.43)\n",
            "Requirement already satisfied: pygments>=2.4.0 in c:\\users\\arunesh\\anaconda3\\lib\\site-packages (from ipython>=4.0.0->ipywidgets) (2.15.1)\n",
            "Requirement already satisfied: stack-data in c:\\users\\arunesh\\anaconda3\\lib\\site-packages (from ipython>=4.0.0->ipywidgets) (0.2.0)\n",
            "Requirement already satisfied: colorama in c:\\users\\arunesh\\anaconda3\\lib\\site-packages (from ipython>=4.0.0->ipywidgets) (0.4.6)\n",
            "Requirement already satisfied: python-dateutil>=2.8.2 in c:\\users\\arunesh\\anaconda3\\lib\\site-packages (from pandas>=1.3.0->yfinance) (2.9.0.post0)\n",
            "Requirement already satisfied: tzdata>=2022.7 in c:\\users\\arunesh\\anaconda3\\lib\\site-packages (from pandas>=1.3.0->yfinance) (2023.3)\n",
            "Requirement already satisfied: charset-normalizer<4,>=2 in c:\\users\\arunesh\\anaconda3\\lib\\site-packages (from requests>=2.31->yfinance) (3.3.2)\n",
            "Requirement already satisfied: idna<4,>=2.5 in c:\\users\\arunesh\\anaconda3\\lib\\site-packages (from requests>=2.31->yfinance) (3.7)\n",
            "Requirement already satisfied: urllib3<3,>=1.21.1 in c:\\users\\arunesh\\anaconda3\\lib\\site-packages (from requests>=2.31->yfinance) (2.2.3)\n",
            "Requirement already satisfied: certifi>=2017.4.17 in c:\\users\\arunesh\\anaconda3\\lib\\site-packages (from requests>=2.31->yfinance) (2025.1.31)\n",
            "Requirement already satisfied: notebook>=4.4.1 in c:\\users\\arunesh\\anaconda3\\lib\\site-packages (from widgetsnbextension~=3.6.6->ipywidgets) (7.2.2)\n",
            "Requirement already satisfied: parso<0.9.0,>=0.8.3 in c:\\users\\arunesh\\anaconda3\\lib\\site-packages (from jedi>=0.16->ipython>=4.0.0->ipywidgets) (0.8.3)\n",
            "Requirement already satisfied: jupyter-server<3,>=2.4.0 in c:\\users\\arunesh\\anaconda3\\lib\\site-packages (from notebook>=4.4.1->widgetsnbextension~=3.6.6->ipywidgets) (2.14.1)\n",
            "Requirement already satisfied: jupyterlab-server<3,>=2.27.1 in c:\\users\\arunesh\\anaconda3\\lib\\site-packages (from notebook>=4.4.1->widgetsnbextension~=3.6.6->ipywidgets) (2.27.3)\n",
            "Requirement already satisfied: jupyterlab<4.3,>=4.2.0 in c:\\users\\arunesh\\anaconda3\\lib\\site-packages (from notebook>=4.4.1->widgetsnbextension~=3.6.6->ipywidgets) (4.2.5)\n",
            "Requirement already satisfied: notebook-shim<0.3,>=0.2 in c:\\users\\arunesh\\anaconda3\\lib\\site-packages (from notebook>=4.4.1->widgetsnbextension~=3.6.6->ipywidgets) (0.2.3)\n",
            "Requirement already satisfied: tornado>=6.2.0 in c:\\users\\arunesh\\anaconda3\\lib\\site-packages (from notebook>=4.4.1->widgetsnbextension~=3.6.6->ipywidgets) (6.4.1)\n",
            "Requirement already satisfied: wcwidth in c:\\users\\arunesh\\anaconda3\\lib\\site-packages (from prompt-toolkit<3.1.0,>=3.0.41->ipython>=4.0.0->ipywidgets) (0.2.5)\n",
            "Requirement already satisfied: six>=1.5 in c:\\users\\arunesh\\anaconda3\\lib\\site-packages (from python-dateutil>=2.8.2->pandas>=1.3.0->yfinance) (1.16.0)\n",
            "Requirement already satisfied: executing in c:\\users\\arunesh\\anaconda3\\lib\\site-packages (from stack-data->ipython>=4.0.0->ipywidgets) (0.8.3)\n",
            "Requirement already satisfied: asttokens in c:\\users\\arunesh\\anaconda3\\lib\\site-packages (from stack-data->ipython>=4.0.0->ipywidgets) (2.0.5)\n",
            "Requirement already satisfied: pure-eval in c:\\users\\arunesh\\anaconda3\\lib\\site-packages (from stack-data->ipython>=4.0.0->ipywidgets) (0.2.2)\n",
            "Requirement already satisfied: anyio>=3.1.0 in c:\\users\\arunesh\\anaconda3\\lib\\site-packages (from jupyter-server<3,>=2.4.0->notebook>=4.4.1->widgetsnbextension~=3.6.6->ipywidgets) (4.2.0)\n",
            "Requirement already satisfied: argon2-cffi>=21.1 in c:\\users\\arunesh\\anaconda3\\lib\\site-packages (from jupyter-server<3,>=2.4.0->notebook>=4.4.1->widgetsnbextension~=3.6.6->ipywidgets) (21.3.0)\n",
            "Requirement already satisfied: jinja2>=3.0.3 in c:\\users\\arunesh\\anaconda3\\lib\\site-packages (from jupyter-server<3,>=2.4.0->notebook>=4.4.1->widgetsnbextension~=3.6.6->ipywidgets) (3.1.4)\n",
            "Requirement already satisfied: jupyter-client>=7.4.4 in c:\\users\\arunesh\\anaconda3\\lib\\site-packages (from jupyter-server<3,>=2.4.0->notebook>=4.4.1->widgetsnbextension~=3.6.6->ipywidgets) (8.6.0)\n",
            "Requirement already satisfied: jupyter-core!=5.0.*,>=4.12 in c:\\users\\arunesh\\anaconda3\\lib\\site-packages (from jupyter-server<3,>=2.4.0->notebook>=4.4.1->widgetsnbextension~=3.6.6->ipywidgets) (5.7.2)\n",
            "Requirement already satisfied: jupyter-events>=0.9.0 in c:\\users\\arunesh\\anaconda3\\lib\\site-packages (from jupyter-server<3,>=2.4.0->notebook>=4.4.1->widgetsnbextension~=3.6.6->ipywidgets) (0.10.0)\n",
            "Requirement already satisfied: jupyter-server-terminals>=0.4.4 in c:\\users\\arunesh\\anaconda3\\lib\\site-packages (from jupyter-server<3,>=2.4.0->notebook>=4.4.1->widgetsnbextension~=3.6.6->ipywidgets) (0.4.4)\n",
            "Requirement already satisfied: nbconvert>=6.4.4 in c:\\users\\arunesh\\anaconda3\\lib\\site-packages (from jupyter-server<3,>=2.4.0->notebook>=4.4.1->widgetsnbextension~=3.6.6->ipywidgets) (7.16.4)\n",
            "Requirement already satisfied: nbformat>=5.3.0 in c:\\users\\arunesh\\anaconda3\\lib\\site-packages (from jupyter-server<3,>=2.4.0->notebook>=4.4.1->widgetsnbextension~=3.6.6->ipywidgets) (5.10.4)\n",
            "Requirement already satisfied: overrides>=5.0 in c:\\users\\arunesh\\anaconda3\\lib\\site-packages (from jupyter-server<3,>=2.4.0->notebook>=4.4.1->widgetsnbextension~=3.6.6->ipywidgets) (7.4.0)\n",
            "Requirement already satisfied: packaging>=22.0 in c:\\users\\arunesh\\anaconda3\\lib\\site-packages (from jupyter-server<3,>=2.4.0->notebook>=4.4.1->widgetsnbextension~=3.6.6->ipywidgets) (24.1)\n",
            "Requirement already satisfied: prometheus-client>=0.9 in c:\\users\\arunesh\\anaconda3\\lib\\site-packages (from jupyter-server<3,>=2.4.0->notebook>=4.4.1->widgetsnbextension~=3.6.6->ipywidgets) (0.14.1)\n",
            "Requirement already satisfied: pywinpty>=2.0.1 in c:\\users\\arunesh\\anaconda3\\lib\\site-packages (from jupyter-server<3,>=2.4.0->notebook>=4.4.1->widgetsnbextension~=3.6.6->ipywidgets) (2.0.10)\n",
            "Requirement already satisfied: pyzmq>=24 in c:\\users\\arunesh\\anaconda3\\lib\\site-packages (from jupyter-server<3,>=2.4.0->notebook>=4.4.1->widgetsnbextension~=3.6.6->ipywidgets) (25.1.2)\n",
            "Requirement already satisfied: send2trash>=1.8.2 in c:\\users\\arunesh\\anaconda3\\lib\\site-packages (from jupyter-server<3,>=2.4.0->notebook>=4.4.1->widgetsnbextension~=3.6.6->ipywidgets) (1.8.2)\n",
            "Requirement already satisfied: terminado>=0.8.3 in c:\\users\\arunesh\\anaconda3\\lib\\site-packages (from jupyter-server<3,>=2.4.0->notebook>=4.4.1->widgetsnbextension~=3.6.6->ipywidgets) (0.17.1)\n",
            "Requirement already satisfied: websocket-client>=1.7 in c:\\users\\arunesh\\anaconda3\\lib\\site-packages (from jupyter-server<3,>=2.4.0->notebook>=4.4.1->widgetsnbextension~=3.6.6->ipywidgets) (1.8.0)\n",
            "Requirement already satisfied: async-lru>=1.0.0 in c:\\users\\arunesh\\anaconda3\\lib\\site-packages (from jupyterlab<4.3,>=4.2.0->notebook>=4.4.1->widgetsnbextension~=3.6.6->ipywidgets) (2.0.4)\n",
            "Requirement already satisfied: httpx>=0.25.0 in c:\\users\\arunesh\\anaconda3\\lib\\site-packages (from jupyterlab<4.3,>=4.2.0->notebook>=4.4.1->widgetsnbextension~=3.6.6->ipywidgets) (0.27.0)\n",
            "Requirement already satisfied: ipykernel>=6.5.0 in c:\\users\\arunesh\\anaconda3\\lib\\site-packages (from jupyterlab<4.3,>=4.2.0->notebook>=4.4.1->widgetsnbextension~=3.6.6->ipywidgets) (6.28.0)\n",
            "Requirement already satisfied: jupyter-lsp>=2.0.0 in c:\\users\\arunesh\\anaconda3\\lib\\site-packages (from jupyterlab<4.3,>=4.2.0->notebook>=4.4.1->widgetsnbextension~=3.6.6->ipywidgets) (2.2.0)\n",
            "Requirement already satisfied: setuptools>=40.1.0 in c:\\users\\arunesh\\anaconda3\\lib\\site-packages (from jupyterlab<4.3,>=4.2.0->notebook>=4.4.1->widgetsnbextension~=3.6.6->ipywidgets) (75.1.0)\n",
            "Requirement already satisfied: babel>=2.10 in c:\\users\\arunesh\\anaconda3\\lib\\site-packages (from jupyterlab-server<3,>=2.27.1->notebook>=4.4.1->widgetsnbextension~=3.6.6->ipywidgets) (2.11.0)\n",
            "Requirement already satisfied: json5>=0.9.0 in c:\\users\\arunesh\\anaconda3\\lib\\site-packages (from jupyterlab-server<3,>=2.27.1->notebook>=4.4.1->widgetsnbextension~=3.6.6->ipywidgets) (0.9.6)\n",
            "Requirement already satisfied: jsonschema>=4.18.0 in c:\\users\\arunesh\\anaconda3\\lib\\site-packages (from jupyterlab-server<3,>=2.27.1->notebook>=4.4.1->widgetsnbextension~=3.6.6->ipywidgets) (4.23.0)\n",
            "Requirement already satisfied: sniffio>=1.1 in c:\\users\\arunesh\\anaconda3\\lib\\site-packages (from anyio>=3.1.0->jupyter-server<3,>=2.4.0->notebook>=4.4.1->widgetsnbextension~=3.6.6->ipywidgets) (1.3.0)\n",
            "Requirement already satisfied: argon2-cffi-bindings in c:\\users\\arunesh\\anaconda3\\lib\\site-packages (from argon2-cffi>=21.1->jupyter-server<3,>=2.4.0->notebook>=4.4.1->widgetsnbextension~=3.6.6->ipywidgets) (21.2.0)\n",
            "Requirement already satisfied: httpcore==1.* in c:\\users\\arunesh\\anaconda3\\lib\\site-packages (from httpx>=0.25.0->jupyterlab<4.3,>=4.2.0->notebook>=4.4.1->widgetsnbextension~=3.6.6->ipywidgets) (1.0.2)\n",
            "Requirement already satisfied: h11<0.15,>=0.13 in c:\\users\\arunesh\\anaconda3\\lib\\site-packages (from httpcore==1.*->httpx>=0.25.0->jupyterlab<4.3,>=4.2.0->notebook>=4.4.1->widgetsnbextension~=3.6.6->ipywidgets) (0.14.0)\n",
            "Requirement already satisfied: debugpy>=1.6.5 in c:\\users\\arunesh\\anaconda3\\lib\\site-packages (from ipykernel>=6.5.0->jupyterlab<4.3,>=4.2.0->notebook>=4.4.1->widgetsnbextension~=3.6.6->ipywidgets) (1.6.7)\n",
            "Requirement already satisfied: nest-asyncio in c:\\users\\arunesh\\anaconda3\\lib\\site-packages (from ipykernel>=6.5.0->jupyterlab<4.3,>=4.2.0->notebook>=4.4.1->widgetsnbextension~=3.6.6->ipywidgets) (1.6.0)\n",
            "Requirement already satisfied: psutil in c:\\users\\arunesh\\anaconda3\\lib\\site-packages (from ipykernel>=6.5.0->jupyterlab<4.3,>=4.2.0->notebook>=4.4.1->widgetsnbextension~=3.6.6->ipywidgets) (5.9.0)\n",
            "Requirement already satisfied: MarkupSafe>=2.0 in c:\\users\\arunesh\\anaconda3\\lib\\site-packages (from jinja2>=3.0.3->jupyter-server<3,>=2.4.0->notebook>=4.4.1->widgetsnbextension~=3.6.6->ipywidgets) (2.1.3)\n",
            "Requirement already satisfied: attrs>=22.2.0 in c:\\users\\arunesh\\anaconda3\\lib\\site-packages (from jsonschema>=4.18.0->jupyterlab-server<3,>=2.27.1->notebook>=4.4.1->widgetsnbextension~=3.6.6->ipywidgets) (23.1.0)\n",
            "Requirement already satisfied: jsonschema-specifications>=2023.03.6 in c:\\users\\arunesh\\anaconda3\\lib\\site-packages (from jsonschema>=4.18.0->jupyterlab-server<3,>=2.27.1->notebook>=4.4.1->widgetsnbextension~=3.6.6->ipywidgets) (2023.7.1)\n",
            "Requirement already satisfied: referencing>=0.28.4 in c:\\users\\arunesh\\anaconda3\\lib\\site-packages (from jsonschema>=4.18.0->jupyterlab-server<3,>=2.27.1->notebook>=4.4.1->widgetsnbextension~=3.6.6->ipywidgets) (0.30.2)\n",
            "Requirement already satisfied: rpds-py>=0.7.1 in c:\\users\\arunesh\\anaconda3\\lib\\site-packages (from jsonschema>=4.18.0->jupyterlab-server<3,>=2.27.1->notebook>=4.4.1->widgetsnbextension~=3.6.6->ipywidgets) (0.10.6)\n",
            "Requirement already satisfied: pywin32>=300 in c:\\users\\arunesh\\anaconda3\\lib\\site-packages (from jupyter-core!=5.0.*,>=4.12->jupyter-server<3,>=2.4.0->notebook>=4.4.1->widgetsnbextension~=3.6.6->ipywidgets) (305.1)\n",
            "Requirement already satisfied: python-json-logger>=2.0.4 in c:\\users\\arunesh\\anaconda3\\lib\\site-packages (from jupyter-events>=0.9.0->jupyter-server<3,>=2.4.0->notebook>=4.4.1->widgetsnbextension~=3.6.6->ipywidgets) (2.0.7)\n",
            "Requirement already satisfied: pyyaml>=5.3 in c:\\users\\arunesh\\anaconda3\\lib\\site-packages (from jupyter-events>=0.9.0->jupyter-server<3,>=2.4.0->notebook>=4.4.1->widgetsnbextension~=3.6.6->ipywidgets) (6.0.1)\n",
            "Requirement already satisfied: rfc3339-validator in c:\\users\\arunesh\\anaconda3\\lib\\site-packages (from jupyter-events>=0.9.0->jupyter-server<3,>=2.4.0->notebook>=4.4.1->widgetsnbextension~=3.6.6->ipywidgets) (0.1.4)\n",
            "Requirement already satisfied: rfc3986-validator>=0.1.1 in c:\\users\\arunesh\\anaconda3\\lib\\site-packages (from jupyter-events>=0.9.0->jupyter-server<3,>=2.4.0->notebook>=4.4.1->widgetsnbextension~=3.6.6->ipywidgets) (0.1.1)\n",
            "Requirement already satisfied: bleach!=5.0.0 in c:\\users\\arunesh\\anaconda3\\lib\\site-packages (from nbconvert>=6.4.4->jupyter-server<3,>=2.4.0->notebook>=4.4.1->widgetsnbextension~=3.6.6->ipywidgets) (4.1.0)\n",
            "Requirement already satisfied: defusedxml in c:\\users\\arunesh\\anaconda3\\lib\\site-packages (from nbconvert>=6.4.4->jupyter-server<3,>=2.4.0->notebook>=4.4.1->widgetsnbextension~=3.6.6->ipywidgets) (0.7.1)\n",
            "Requirement already satisfied: jupyterlab-pygments in c:\\users\\arunesh\\anaconda3\\lib\\site-packages (from nbconvert>=6.4.4->jupyter-server<3,>=2.4.0->notebook>=4.4.1->widgetsnbextension~=3.6.6->ipywidgets) (0.1.2)\n",
            "Requirement already satisfied: mistune<4,>=2.0.3 in c:\\users\\arunesh\\anaconda3\\lib\\site-packages (from nbconvert>=6.4.4->jupyter-server<3,>=2.4.0->notebook>=4.4.1->widgetsnbextension~=3.6.6->ipywidgets) (2.0.4)\n",
            "Requirement already satisfied: nbclient>=0.5.0 in c:\\users\\arunesh\\anaconda3\\lib\\site-packages (from nbconvert>=6.4.4->jupyter-server<3,>=2.4.0->notebook>=4.4.1->widgetsnbextension~=3.6.6->ipywidgets) (0.8.0)\n",
            "Requirement already satisfied: pandocfilters>=1.4.1 in c:\\users\\arunesh\\anaconda3\\lib\\site-packages (from nbconvert>=6.4.4->jupyter-server<3,>=2.4.0->notebook>=4.4.1->widgetsnbextension~=3.6.6->ipywidgets) (1.5.0)\n",
            "Requirement already satisfied: tinycss2 in c:\\users\\arunesh\\anaconda3\\lib\\site-packages (from nbconvert>=6.4.4->jupyter-server<3,>=2.4.0->notebook>=4.4.1->widgetsnbextension~=3.6.6->ipywidgets) (1.2.1)\n",
            "Requirement already satisfied: fastjsonschema>=2.15 in c:\\users\\arunesh\\anaconda3\\lib\\site-packages (from nbformat>=5.3.0->jupyter-server<3,>=2.4.0->notebook>=4.4.1->widgetsnbextension~=3.6.6->ipywidgets) (2.16.2)\n",
            "Requirement already satisfied: webencodings in c:\\users\\arunesh\\anaconda3\\lib\\site-packages (from bleach!=5.0.0->nbconvert>=6.4.4->jupyter-server<3,>=2.4.0->notebook>=4.4.1->widgetsnbextension~=3.6.6->ipywidgets) (0.5.1)\n",
            "Collecting fqdn (from jsonschema[format-nongpl]>=4.18.0->jupyter-events>=0.9.0->jupyter-server<3,>=2.4.0->notebook>=4.4.1->widgetsnbextension~=3.6.6->ipywidgets)\n",
            "  Downloading fqdn-1.5.1-py3-none-any.whl.metadata (1.4 kB)\n",
            "Collecting isoduration (from jsonschema[format-nongpl]>=4.18.0->jupyter-events>=0.9.0->jupyter-server<3,>=2.4.0->notebook>=4.4.1->widgetsnbextension~=3.6.6->ipywidgets)\n",
            "  Downloading isoduration-20.11.0-py3-none-any.whl.metadata (5.7 kB)\n",
            "Requirement already satisfied: jsonpointer>1.13 in c:\\users\\arunesh\\anaconda3\\lib\\site-packages (from jsonschema[format-nongpl]>=4.18.0->jupyter-events>=0.9.0->jupyter-server<3,>=2.4.0->notebook>=4.4.1->widgetsnbextension~=3.6.6->ipywidgets) (2.1)\n",
            "Collecting uri-template (from jsonschema[format-nongpl]>=4.18.0->jupyter-events>=0.9.0->jupyter-server<3,>=2.4.0->notebook>=4.4.1->widgetsnbextension~=3.6.6->ipywidgets)\n",
            "  Downloading uri_template-1.3.0-py3-none-any.whl.metadata (8.8 kB)\n",
            "Collecting webcolors>=24.6.0 (from jsonschema[format-nongpl]>=4.18.0->jupyter-events>=0.9.0->jupyter-server<3,>=2.4.0->notebook>=4.4.1->widgetsnbextension~=3.6.6->ipywidgets)\n",
            "  Downloading webcolors-24.11.1-py3-none-any.whl.metadata (2.2 kB)\n",
            "Requirement already satisfied: cffi>=1.0.1 in c:\\users\\arunesh\\anaconda3\\lib\\site-packages (from argon2-cffi-bindings->argon2-cffi>=21.1->jupyter-server<3,>=2.4.0->notebook>=4.4.1->widgetsnbextension~=3.6.6->ipywidgets) (1.17.1)\n",
            "Requirement already satisfied: pycparser in c:\\users\\arunesh\\anaconda3\\lib\\site-packages (from cffi>=1.0.1->argon2-cffi-bindings->argon2-cffi>=21.1->jupyter-server<3,>=2.4.0->notebook>=4.4.1->widgetsnbextension~=3.6.6->ipywidgets) (2.21)\n",
            "Requirement already satisfied: arrow>=0.15.0 in c:\\users\\arunesh\\anaconda3\\lib\\site-packages (from isoduration->jsonschema[format-nongpl]>=4.18.0->jupyter-events>=0.9.0->jupyter-server<3,>=2.4.0->notebook>=4.4.1->widgetsnbextension~=3.6.6->ipywidgets) (1.2.3)\n",
            "Downloading webcolors-24.11.1-py3-none-any.whl (14 kB)\n",
            "Downloading fqdn-1.5.1-py3-none-any.whl (9.1 kB)\n",
            "Downloading isoduration-20.11.0-py3-none-any.whl (11 kB)\n",
            "Downloading uri_template-1.3.0-py3-none-any.whl (11 kB)\n",
            "Installing collected packages: webcolors, uri-template, fqdn, isoduration\n",
            "Successfully installed fqdn-1.5.1 isoduration-20.11.0 uri-template-1.3.0 webcolors-24.11.1\n"
          ]
        }
      ],
      "source": [
        "!pip install yfinance ipywidgets"
      ]
    },
    {
      "cell_type": "markdown",
      "metadata": {
        "id": "7l1_cf_WIwmb"
      },
      "source": [
        "### Investment Calculator"
      ]
    },
    {
      "cell_type": "code",
      "execution_count": 7,
      "metadata": {
        "colab": {
          "base_uri": "https://localhost:8080/",
          "height": 1070,
          "referenced_widgets": [
            "04f6d7ac15dc4452acb53b8700415843",
            "bd23794d55f94c7e95db8750f22fa6b9",
            "aa2c8f60c4ee414dbddabc502700fe03",
            "417b8336ce77471380f1b806abbcc207",
            "6beb6b3b923944b59f2d98a946b2d074",
            "7658bf41ae4d4e618b93adbc4e057f6d",
            "d8d1f87a522642a6b106a635ea77f4fb",
            "68ef6577df9c4bed9cb004f7f5bc8222",
            "fa8a2fafa1c645f7bce9a88922ff259a",
            "5f69c4a308234c7c921c036e9fa665af",
            "58a5ccdd732140fbafe9a84d71c0b609",
            "feb1d23d5d454d28ae1cf2b77b9717da",
            "d238d0ec7513442eac502b491c8b5404",
            "b1bab3bb16954675886e467ead75e4be",
            "dba7d855989b465089e9cbcfc1e58a66",
            "a8428ae5e8244c97a4c424516ed9fb89",
            "b23373a3e6cf4b99bd77857f3a4d9613",
            "0865ef3482ef4ed7b2f31798b56e6179",
            "09e08142a0cb4db4bdc0a07a8d2dff22",
            "996316a74a624bd3ae5fda6a7b4063ce",
            "193d0ecbed144b76b2f6567293139f9e",
            "fd392a4c497541988d3effe14cfdc471",
            "c85ac061f9a14c7cbf96a1184effce05",
            "e10f1952c1d7482397e22c03e73d590b",
            "2fda943a5eb54ac09d3554007551a0d0",
            "f1558cf0bc764c63984ca3713a189ffa",
            "b114847b998a4a118a9a790ea15e9f4a",
            "cef8650c68ee450e82c7339bb310cbf7",
            "35969c60915946bb996977f3cba93bd5",
            "eaa6b825f8fa4967ba39621fe17d6a7f",
            "1f4f9ef343b947be8be69794d2f469f9",
            "99f108544948452c8984946922c9a95d"
          ]
        },
        "id": "ziOFKuFlInmM",
        "outputId": "ae012eb1-02a5-45bc-d796-ba463d410d81"
      },
      "outputs": [
        {
          "data": {
            "application/vnd.jupyter.widget-view+json": {
              "model_id": "52728f6ffaaa40c9b562a3a1460f67a6",
              "version_major": 2,
              "version_minor": 0
            },
            "text/plain": [
              "Dropdown(description='Stock 1:', options=('Apple (AAPL)', 'Microsoft (MSFT)', 'Google (GOOGL)', 'Amazon (AMZN)…"
            ]
          },
          "metadata": {},
          "output_type": "display_data"
        },
        {
          "data": {
            "application/vnd.jupyter.widget-view+json": {
              "model_id": "84fced6550ec413ca9481058278ce567",
              "version_major": 2,
              "version_minor": 0
            },
            "text/plain": [
              "IntText(value=1000, description='Investment ($):', step=100)"
            ]
          },
          "metadata": {},
          "output_type": "display_data"
        },
        {
          "data": {
            "application/vnd.jupyter.widget-view+json": {
              "model_id": "72e37ed56b124daa841c6333052638c1",
              "version_major": 2,
              "version_minor": 0
            },
            "text/plain": [
              "IntSlider(value=5, description='Years:', max=30, min=1)"
            ]
          },
          "metadata": {},
          "output_type": "display_data"
        },
        {
          "data": {
            "application/vnd.jupyter.widget-view+json": {
              "model_id": "302b5cfc3eea4b5793b4a285ffac741d",
              "version_major": 2,
              "version_minor": 0
            },
            "text/plain": [
              "Dropdown(description='Stock 2:', options=('Apple (AAPL)', 'Microsoft (MSFT)', 'Google (GOOGL)', 'Amazon (AMZN)…"
            ]
          },
          "metadata": {},
          "output_type": "display_data"
        },
        {
          "data": {
            "application/vnd.jupyter.widget-view+json": {
              "model_id": "4c046ee26cb6459bac088f2ff710fa1a",
              "version_major": 2,
              "version_minor": 0
            },
            "text/plain": [
              "IntText(value=1000, description='Investment ($):', step=100)"
            ]
          },
          "metadata": {},
          "output_type": "display_data"
        },
        {
          "data": {
            "application/vnd.jupyter.widget-view+json": {
              "model_id": "298ef623efc740129fdbbc3c7b9f7e31",
              "version_major": 2,
              "version_minor": 0
            },
            "text/plain": [
              "IntSlider(value=5, description='Years:', max=30, min=1)"
            ]
          },
          "metadata": {},
          "output_type": "display_data"
        },
        {
          "data": {
            "application/vnd.jupyter.widget-view+json": {
              "model_id": "e45a5fb0c3f248b198e1681175ca5c0e",
              "version_major": 2,
              "version_minor": 0
            },
            "text/plain": [
              "Dropdown(description='Stock 3:', options=('Apple (AAPL)', 'Microsoft (MSFT)', 'Google (GOOGL)', 'Amazon (AMZN)…"
            ]
          },
          "metadata": {},
          "output_type": "display_data"
        },
        {
          "data": {
            "application/vnd.jupyter.widget-view+json": {
              "model_id": "af012ab7747c4b55b048bd478b11b295",
              "version_major": 2,
              "version_minor": 0
            },
            "text/plain": [
              "IntText(value=1000, description='Investment ($):', step=100)"
            ]
          },
          "metadata": {},
          "output_type": "display_data"
        },
        {
          "data": {
            "application/vnd.jupyter.widget-view+json": {
              "model_id": "6d9a6a6a31494bc4998671fbcbc5048f",
              "version_major": 2,
              "version_minor": 0
            },
            "text/plain": [
              "IntSlider(value=5, description='Years:', max=30, min=1)"
            ]
          },
          "metadata": {},
          "output_type": "display_data"
        },
        {
          "data": {
            "application/vnd.jupyter.widget-view+json": {
              "model_id": "4a3aa3ae68704e6da1314229d4eed54c",
              "version_major": 2,
              "version_minor": 0
            },
            "text/plain": [
              "Button(button_style='success', description='Compare Investments', style=ButtonStyle())"
            ]
          },
          "metadata": {},
          "output_type": "display_data"
        },
        {
          "data": {
            "application/vnd.jupyter.widget-view+json": {
              "model_id": "5cca6880033e44baac4e2419aa5db0bb",
              "version_major": 2,
              "version_minor": 0
            },
            "text/plain": [
              "Output()"
            ]
          },
          "metadata": {},
          "output_type": "display_data"
        }
      ],
      "source": [
        "import yfinance as yf\n",
        "import pandas as pd\n",
        "import numpy as np\n",
        "import matplotlib.pyplot as plt\n",
        "import ipywidgets as widgets\n",
        "from IPython.display import display\n",
        "\n",
        "# Define top 50 tech stocks\n",
        "top_tech_stocks = {\n",
        "    \"Apple (AAPL)\": \"AAPL\", \"Microsoft (MSFT)\": \"MSFT\", \"Google (GOOGL)\": \"GOOGL\", \"Amazon (AMZN)\": \"AMZN\",\n",
        "    \"Tesla (TSLA)\": \"TSLA\", \"Nvidia (NVDA)\": \"NVDA\", \"Meta (META)\": \"META\", \"Adobe (ADBE)\": \"ADBE\",\n",
        "    \"Netflix (NFLX)\": \"NFLX\", \"Salesforce (CRM)\": \"CRM\", \"AMD\": \"AMD\", \"Intel (INTC)\": \"INTC\",\n",
        "    \"Oracle (ORCL)\": \"ORCL\", \"IBM\": \"IBM\", \"Cisco (CSCO)\": \"CSCO\", \"Uber (UBER)\": \"UBER\",\n",
        "    \"Paypal (PYPL)\": \"PYPL\", \"Shopify (SHOP)\": \"SHOP\", \"Square (SQ)\": \"SQ\", \"Snowflake (SNOW)\": \"SNOW\",\n",
        "    \"ASML\": \"ASML\", \"Broadcom (AVGO)\": \"AVGO\", \"Texas Instruments (TXN)\": \"TXN\", \"Qualcomm (QCOM)\": \"QCOM\",\n",
        "    \"ServiceNow (NOW)\": \"NOW\", \"Zoom (ZM)\": \"ZM\", \"Twilio (TWLO)\": \"TWLO\", \"Palantir (PLTR)\": \"PLTR\",\n",
        "    \"DocuSign (DOCU)\": \"DOCU\", \"Workday (WDAY)\": \"WDAY\", \"Atlassian (TEAM)\": \"TEAM\", \"Fastly (FSLY)\": \"FSLY\",\n",
        "    \"CrowdStrike (CRWD)\": \"CRWD\", \"Okta (OKTA)\": \"OKTA\", \"Datadog (DDOG)\": \"DDOG\", \"Cloudflare (NET)\": \"NET\",\n",
        "    \"Pinterest (PINS)\": \"PINS\", \"Snap (SNAP)\": \"SNAP\", \"Roku (ROKU)\": \"ROKU\", \"Spotify (SPOT)\": \"SPOT\",\n",
        "    \"Zscaler (ZS)\": \"ZS\", \"MongoDB (MDB)\": \"MDB\", \"Veeva (VEEV)\": \"VEEV\", \"Palo Alto Networks (PANW)\": \"PANW\",\n",
        "    \"Fiserv (FIS)\": \"FIS\", \"Autodesk (ADSK)\": \"ADSK\", \"SAP\": \"SAP\", \"Intuit (INTU)\": \"INTU\",\n",
        "    \"Arista Networks (ANET)\": \"ANET\", \"Sea Limited (SE)\": \"SE\"\n",
        "}\n",
        "\n",
        "# Function to calculate compound returns\n",
        "def calculate_returns(amount, years, annual_return):\n",
        "    return amount * (1 + annual_return / 100) ** years\n",
        "\n",
        "# Function to fetch stock's past 5-year CAGR\n",
        "def get_cagr(stock_ticker):\n",
        "    try:\n",
        "        stock = yf.Ticker(stock_ticker)\n",
        "        hist = stock.history(period=\"5y\")  # Fetch last 5 years of data\n",
        "\n",
        "        if hist.empty:\n",
        "            return 10  # Default CAGR if data is missing\n",
        "\n",
        "        start_price = hist[\"Close\"].iloc[0]\n",
        "        end_price = hist[\"Close\"].iloc[-1]\n",
        "\n",
        "        # Calculate CAGR: ((End Price / Start Price)^(1/years)) - 1\n",
        "        cagr = ((end_price / start_price) ** (1 / 5) - 1) * 100\n",
        "        return round(cagr, 2)\n",
        "    except:\n",
        "        return 10  # Default to 10% CAGR if fetch fails\n",
        "\n",
        "# Create widgets for selecting multiple stocks\n",
        "stock_dropdown_1 = widgets.Dropdown(options=top_tech_stocks.keys(), description=\"Stock 1:\")\n",
        "stock_dropdown_2 = widgets.Dropdown(options=top_tech_stocks.keys(), description=\"Stock 2:\")\n",
        "stock_dropdown_3 = widgets.Dropdown(options=top_tech_stocks.keys(), description=\"Stock 3:\")\n",
        "\n",
        "# Investment Inputs\n",
        "amount_input_1 = widgets.IntText(value=1000, min=100, step=100, description=\"Investment ($):\")\n",
        "years_slider_1 = widgets.IntSlider(value=5, min=1, max=30, step=1, description=\"Years:\")\n",
        "\n",
        "amount_input_2 = widgets.IntText(value=1000, min=100, step=100, description=\"Investment ($):\")\n",
        "years_slider_2 = widgets.IntSlider(value=5, min=1, max=30, step=1, description=\"Years:\")\n",
        "\n",
        "amount_input_3 = widgets.IntText(value=1000, min=100, step=100, description=\"Investment ($):\")\n",
        "years_slider_3 = widgets.IntSlider(value=5, min=1, max=30, step=1, description=\"Years:\")\n",
        "\n",
        "# Button to calculate\n",
        "calc_button = widgets.Button(description=\"Compare Investments\", button_style='success')\n",
        "\n",
        "# Output widget\n",
        "output = widgets.Output()\n",
        "\n",
        "# Function to update investment growth plots\n",
        "def update_investment(change):\n",
        "    with output:\n",
        "        output.clear_output()\n",
        "\n",
        "        fig, ax = plt.subplots(figsize=(8, 5))\n",
        "\n",
        "        for i, (stock_dropdown, amount_input, years_slider) in enumerate([\n",
        "            (stock_dropdown_1, amount_input_1, years_slider_1),\n",
        "            (stock_dropdown_2, amount_input_2, years_slider_2),\n",
        "            (stock_dropdown_3, amount_input_3, years_slider_3),\n",
        "        ]):\n",
        "            # Get user input\n",
        "            selected_stock = stock_dropdown.value\n",
        "            selected_ticker = top_tech_stocks[selected_stock]\n",
        "            amount = amount_input.value\n",
        "            years = years_slider.value\n",
        "\n",
        "            # Fetch CAGR\n",
        "            expected_return = get_cagr(selected_ticker)\n",
        "\n",
        "            # Calculate projected return\n",
        "            final_value = calculate_returns(amount, years, expected_return)\n",
        "\n",
        "            # Display results\n",
        "            print(f\"📊 **Stock {i+1}:** {selected_stock} ({selected_ticker})\")\n",
        "            print(f\"📈 **Historical Growth Rate:** {expected_return}% CAGR\")\n",
        "            print(f\"💰 **Investment:** ${amount:,} for {years} years\")\n",
        "            print(f\"💸 **Projected Return:** **${final_value:,.2f}**\\n\")\n",
        "\n",
        "            # Investment Growth Chart\n",
        "            x = np.arange(0, years + 1)\n",
        "            y = [calculate_returns(amount, i, expected_return) for i in x]\n",
        "\n",
        "            ax.plot(x, y, marker=\"o\", linestyle=\"-\", label=f\"{selected_stock}\")\n",
        "\n",
        "        ax.set_title(\"Investment Growth Comparison\")\n",
        "        ax.set_xlabel(\"Years\")\n",
        "        ax.set_ylabel(\"Total Value ($)\")\n",
        "        ax.legend()\n",
        "        ax.grid(True)\n",
        "        ax.yaxis.set_major_formatter(plt.FuncFormatter(lambda x, _: f'${x:,.0f}'))\n",
        "\n",
        "        plt.show()\n",
        "\n",
        "# Attach function to button click\n",
        "calc_button.on_click(update_investment)\n",
        "\n",
        "# Display UI\n",
        "display(stock_dropdown_1, amount_input_1, years_slider_1,\n",
        "        stock_dropdown_2, amount_input_2, years_slider_2,\n",
        "        stock_dropdown_3, amount_input_3, years_slider_3,\n",
        "        calc_button, output)\n"
      ]
    }
  ],
  "metadata": {
    "colab": {
      "provenance": []
    },
    "kernelspec": {
      "display_name": "base",
      "language": "python",
      "name": "python3"
    },
    "language_info": {
      "codemirror_mode": {
        "name": "ipython",
        "version": 3
      },
      "file_extension": ".py",
      "mimetype": "text/x-python",
      "name": "python",
      "nbconvert_exporter": "python",
      "pygments_lexer": "ipython3",
      "version": "3.12.7"
    },
    "widgets": {
      "application/vnd.jupyter.widget-state+json": {
        "04f6d7ac15dc4452acb53b8700415843": {
          "model_module": "@jupyter-widgets/controls",
          "model_module_version": "1.5.0",
          "model_name": "DropdownModel",
          "state": {
            "_dom_classes": [],
            "_model_module": "@jupyter-widgets/controls",
            "_model_module_version": "1.5.0",
            "_model_name": "DropdownModel",
            "_options_labels": [
              "Apple (AAPL)",
              "Microsoft (MSFT)",
              "Google (GOOGL)",
              "Amazon (AMZN)",
              "Tesla (TSLA)",
              "Nvidia (NVDA)",
              "Meta (META)",
              "Adobe (ADBE)",
              "Netflix (NFLX)",
              "Salesforce (CRM)",
              "AMD",
              "Intel (INTC)",
              "Oracle (ORCL)",
              "IBM",
              "Cisco (CSCO)",
              "Uber (UBER)",
              "Paypal (PYPL)",
              "Shopify (SHOP)",
              "Square (SQ)",
              "Snowflake (SNOW)",
              "ASML",
              "Broadcom (AVGO)",
              "Texas Instruments (TXN)",
              "Qualcomm (QCOM)",
              "ServiceNow (NOW)",
              "Zoom (ZM)",
              "Twilio (TWLO)",
              "Palantir (PLTR)",
              "DocuSign (DOCU)",
              "Workday (WDAY)",
              "Atlassian (TEAM)",
              "Fastly (FSLY)",
              "CrowdStrike (CRWD)",
              "Okta (OKTA)",
              "Datadog (DDOG)",
              "Cloudflare (NET)",
              "Pinterest (PINS)",
              "Snap (SNAP)",
              "Roku (ROKU)",
              "Spotify (SPOT)",
              "Zscaler (ZS)",
              "MongoDB (MDB)",
              "Veeva (VEEV)",
              "Palo Alto Networks (PANW)",
              "Fiserv (FIS)",
              "Autodesk (ADSK)",
              "SAP",
              "Intuit (INTU)",
              "Arista Networks (ANET)",
              "Sea Limited (SE)"
            ],
            "_view_count": null,
            "_view_module": "@jupyter-widgets/controls",
            "_view_module_version": "1.5.0",
            "_view_name": "DropdownView",
            "description": "Stock 1:",
            "description_tooltip": null,
            "disabled": false,
            "index": 0,
            "layout": "IPY_MODEL_bd23794d55f94c7e95db8750f22fa6b9",
            "style": "IPY_MODEL_aa2c8f60c4ee414dbddabc502700fe03"
          }
        },
        "0865ef3482ef4ed7b2f31798b56e6179": {
          "model_module": "@jupyter-widgets/controls",
          "model_module_version": "1.5.0",
          "model_name": "SliderStyleModel",
          "state": {
            "_model_module": "@jupyter-widgets/controls",
            "_model_module_version": "1.5.0",
            "_model_name": "SliderStyleModel",
            "_view_count": null,
            "_view_module": "@jupyter-widgets/base",
            "_view_module_version": "1.2.0",
            "_view_name": "StyleView",
            "description_width": "",
            "handle_color": null
          }
        },
        "09e08142a0cb4db4bdc0a07a8d2dff22": {
          "model_module": "@jupyter-widgets/controls",
          "model_module_version": "1.5.0",
          "model_name": "DropdownModel",
          "state": {
            "_dom_classes": [],
            "_model_module": "@jupyter-widgets/controls",
            "_model_module_version": "1.5.0",
            "_model_name": "DropdownModel",
            "_options_labels": [
              "Apple (AAPL)",
              "Microsoft (MSFT)",
              "Google (GOOGL)",
              "Amazon (AMZN)",
              "Tesla (TSLA)",
              "Nvidia (NVDA)",
              "Meta (META)",
              "Adobe (ADBE)",
              "Netflix (NFLX)",
              "Salesforce (CRM)",
              "AMD",
              "Intel (INTC)",
              "Oracle (ORCL)",
              "IBM",
              "Cisco (CSCO)",
              "Uber (UBER)",
              "Paypal (PYPL)",
              "Shopify (SHOP)",
              "Square (SQ)",
              "Snowflake (SNOW)",
              "ASML",
              "Broadcom (AVGO)",
              "Texas Instruments (TXN)",
              "Qualcomm (QCOM)",
              "ServiceNow (NOW)",
              "Zoom (ZM)",
              "Twilio (TWLO)",
              "Palantir (PLTR)",
              "DocuSign (DOCU)",
              "Workday (WDAY)",
              "Atlassian (TEAM)",
              "Fastly (FSLY)",
              "CrowdStrike (CRWD)",
              "Okta (OKTA)",
              "Datadog (DDOG)",
              "Cloudflare (NET)",
              "Pinterest (PINS)",
              "Snap (SNAP)",
              "Roku (ROKU)",
              "Spotify (SPOT)",
              "Zscaler (ZS)",
              "MongoDB (MDB)",
              "Veeva (VEEV)",
              "Palo Alto Networks (PANW)",
              "Fiserv (FIS)",
              "Autodesk (ADSK)",
              "SAP",
              "Intuit (INTU)",
              "Arista Networks (ANET)",
              "Sea Limited (SE)"
            ],
            "_view_count": null,
            "_view_module": "@jupyter-widgets/controls",
            "_view_module_version": "1.5.0",
            "_view_name": "DropdownView",
            "description": "Stock 3:",
            "description_tooltip": null,
            "disabled": false,
            "index": 1,
            "layout": "IPY_MODEL_996316a74a624bd3ae5fda6a7b4063ce",
            "style": "IPY_MODEL_193d0ecbed144b76b2f6567293139f9e"
          }
        },
        "193d0ecbed144b76b2f6567293139f9e": {
          "model_module": "@jupyter-widgets/controls",
          "model_module_version": "1.5.0",
          "model_name": "DescriptionStyleModel",
          "state": {
            "_model_module": "@jupyter-widgets/controls",
            "_model_module_version": "1.5.0",
            "_model_name": "DescriptionStyleModel",
            "_view_count": null,
            "_view_module": "@jupyter-widgets/base",
            "_view_module_version": "1.2.0",
            "_view_name": "StyleView",
            "description_width": ""
          }
        },
        "1f4f9ef343b947be8be69794d2f469f9": {
          "model_module": "@jupyter-widgets/output",
          "model_module_version": "1.0.0",
          "model_name": "OutputModel",
          "state": {
            "_dom_classes": [],
            "_model_module": "@jupyter-widgets/output",
            "_model_module_version": "1.0.0",
            "_model_name": "OutputModel",
            "_view_count": null,
            "_view_module": "@jupyter-widgets/output",
            "_view_module_version": "1.0.0",
            "_view_name": "OutputView",
            "layout": "IPY_MODEL_99f108544948452c8984946922c9a95d",
            "msg_id": "",
            "outputs": [
              {
                "name": "stdout",
                "output_type": "stream",
                "text": [
                  "📊 **Stock 1:** Apple (AAPL) (AAPL)\n",
                  "📈 **Historical Growth Rate:** 27.68% CAGR\n",
                  "💰 **Investment:** $1,000 for 5 years\n",
                  "💸 **Projected Return:** **$3,393.24**\n",
                  "\n",
                  "📊 **Stock 2:** Amazon (AMZN) (AMZN)\n",
                  "📈 **Historical Growth Rate:** 16.61% CAGR\n",
                  "💰 **Investment:** $1,000 for 5 years\n",
                  "💸 **Projected Return:** **$2,156.15**\n",
                  "\n"
                ]
              },
              {
                "name": "stdout",
                "output_type": "stream",
                "text": [
                  "📊 **Stock 3:** Microsoft (MSFT) (MSFT)\n",
                  "📈 **Historical Growth Rate:** 20.07% CAGR\n",
                  "💰 **Investment:** $1,000 for 5 years\n",
                  "💸 **Projected Return:** **$2,495.59**\n",
                  "\n"
                ]
              },
              {
                "data": {
                  "image/png": "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\n",
                  "text/plain": "<Figure size 800x500 with 1 Axes>"
                },
                "metadata": {},
                "output_type": "display_data"
              }
            ]
          }
        },
        "2fda943a5eb54ac09d3554007551a0d0": {
          "model_module": "@jupyter-widgets/controls",
          "model_module_version": "1.5.0",
          "model_name": "IntSliderModel",
          "state": {
            "_dom_classes": [],
            "_model_module": "@jupyter-widgets/controls",
            "_model_module_version": "1.5.0",
            "_model_name": "IntSliderModel",
            "_view_count": null,
            "_view_module": "@jupyter-widgets/controls",
            "_view_module_version": "1.5.0",
            "_view_name": "IntSliderView",
            "continuous_update": true,
            "description": "Years:",
            "description_tooltip": null,
            "disabled": false,
            "layout": "IPY_MODEL_f1558cf0bc764c63984ca3713a189ffa",
            "max": 30,
            "min": 1,
            "orientation": "horizontal",
            "readout": true,
            "readout_format": "d",
            "step": 1,
            "style": "IPY_MODEL_b114847b998a4a118a9a790ea15e9f4a",
            "value": 5
          }
        },
        "35969c60915946bb996977f3cba93bd5": {
          "model_module": "@jupyter-widgets/base",
          "model_module_version": "1.2.0",
          "model_name": "LayoutModel",
          "state": {
            "_model_module": "@jupyter-widgets/base",
            "_model_module_version": "1.2.0",
            "_model_name": "LayoutModel",
            "_view_count": null,
            "_view_module": "@jupyter-widgets/base",
            "_view_module_version": "1.2.0",
            "_view_name": "LayoutView",
            "align_content": null,
            "align_items": null,
            "align_self": null,
            "border": null,
            "bottom": null,
            "display": null,
            "flex": null,
            "flex_flow": null,
            "grid_area": null,
            "grid_auto_columns": null,
            "grid_auto_flow": null,
            "grid_auto_rows": null,
            "grid_column": null,
            "grid_gap": null,
            "grid_row": null,
            "grid_template_areas": null,
            "grid_template_columns": null,
            "grid_template_rows": null,
            "height": null,
            "justify_content": null,
            "justify_items": null,
            "left": null,
            "margin": null,
            "max_height": null,
            "max_width": null,
            "min_height": null,
            "min_width": null,
            "object_fit": null,
            "object_position": null,
            "order": null,
            "overflow": null,
            "overflow_x": null,
            "overflow_y": null,
            "padding": null,
            "right": null,
            "top": null,
            "visibility": null,
            "width": null
          }
        },
        "417b8336ce77471380f1b806abbcc207": {
          "model_module": "@jupyter-widgets/controls",
          "model_module_version": "1.5.0",
          "model_name": "IntTextModel",
          "state": {
            "_dom_classes": [],
            "_model_module": "@jupyter-widgets/controls",
            "_model_module_version": "1.5.0",
            "_model_name": "IntTextModel",
            "_view_count": null,
            "_view_module": "@jupyter-widgets/controls",
            "_view_module_version": "1.5.0",
            "_view_name": "IntTextView",
            "continuous_update": false,
            "description": "Investment ($):",
            "description_tooltip": null,
            "disabled": false,
            "layout": "IPY_MODEL_6beb6b3b923944b59f2d98a946b2d074",
            "step": 100,
            "style": "IPY_MODEL_7658bf41ae4d4e618b93adbc4e057f6d",
            "value": 1000
          }
        },
        "58a5ccdd732140fbafe9a84d71c0b609": {
          "model_module": "@jupyter-widgets/base",
          "model_module_version": "1.2.0",
          "model_name": "LayoutModel",
          "state": {
            "_model_module": "@jupyter-widgets/base",
            "_model_module_version": "1.2.0",
            "_model_name": "LayoutModel",
            "_view_count": null,
            "_view_module": "@jupyter-widgets/base",
            "_view_module_version": "1.2.0",
            "_view_name": "LayoutView",
            "align_content": null,
            "align_items": null,
            "align_self": null,
            "border": null,
            "bottom": null,
            "display": null,
            "flex": null,
            "flex_flow": null,
            "grid_area": null,
            "grid_auto_columns": null,
            "grid_auto_flow": null,
            "grid_auto_rows": null,
            "grid_column": null,
            "grid_gap": null,
            "grid_row": null,
            "grid_template_areas": null,
            "grid_template_columns": null,
            "grid_template_rows": null,
            "height": null,
            "justify_content": null,
            "justify_items": null,
            "left": null,
            "margin": null,
            "max_height": null,
            "max_width": null,
            "min_height": null,
            "min_width": null,
            "object_fit": null,
            "object_position": null,
            "order": null,
            "overflow": null,
            "overflow_x": null,
            "overflow_y": null,
            "padding": null,
            "right": null,
            "top": null,
            "visibility": null,
            "width": null
          }
        },
        "5f69c4a308234c7c921c036e9fa665af": {
          "model_module": "@jupyter-widgets/controls",
          "model_module_version": "1.5.0",
          "model_name": "DropdownModel",
          "state": {
            "_dom_classes": [],
            "_model_module": "@jupyter-widgets/controls",
            "_model_module_version": "1.5.0",
            "_model_name": "DropdownModel",
            "_options_labels": [
              "Apple (AAPL)",
              "Microsoft (MSFT)",
              "Google (GOOGL)",
              "Amazon (AMZN)",
              "Tesla (TSLA)",
              "Nvidia (NVDA)",
              "Meta (META)",
              "Adobe (ADBE)",
              "Netflix (NFLX)",
              "Salesforce (CRM)",
              "AMD",
              "Intel (INTC)",
              "Oracle (ORCL)",
              "IBM",
              "Cisco (CSCO)",
              "Uber (UBER)",
              "Paypal (PYPL)",
              "Shopify (SHOP)",
              "Square (SQ)",
              "Snowflake (SNOW)",
              "ASML",
              "Broadcom (AVGO)",
              "Texas Instruments (TXN)",
              "Qualcomm (QCOM)",
              "ServiceNow (NOW)",
              "Zoom (ZM)",
              "Twilio (TWLO)",
              "Palantir (PLTR)",
              "DocuSign (DOCU)",
              "Workday (WDAY)",
              "Atlassian (TEAM)",
              "Fastly (FSLY)",
              "CrowdStrike (CRWD)",
              "Okta (OKTA)",
              "Datadog (DDOG)",
              "Cloudflare (NET)",
              "Pinterest (PINS)",
              "Snap (SNAP)",
              "Roku (ROKU)",
              "Spotify (SPOT)",
              "Zscaler (ZS)",
              "MongoDB (MDB)",
              "Veeva (VEEV)",
              "Palo Alto Networks (PANW)",
              "Fiserv (FIS)",
              "Autodesk (ADSK)",
              "SAP",
              "Intuit (INTU)",
              "Arista Networks (ANET)",
              "Sea Limited (SE)"
            ],
            "_view_count": null,
            "_view_module": "@jupyter-widgets/controls",
            "_view_module_version": "1.5.0",
            "_view_name": "DropdownView",
            "description": "Stock 2:",
            "description_tooltip": null,
            "disabled": false,
            "index": 3,
            "layout": "IPY_MODEL_58a5ccdd732140fbafe9a84d71c0b609",
            "style": "IPY_MODEL_feb1d23d5d454d28ae1cf2b77b9717da"
          }
        },
        "68ef6577df9c4bed9cb004f7f5bc8222": {
          "model_module": "@jupyter-widgets/base",
          "model_module_version": "1.2.0",
          "model_name": "LayoutModel",
          "state": {
            "_model_module": "@jupyter-widgets/base",
            "_model_module_version": "1.2.0",
            "_model_name": "LayoutModel",
            "_view_count": null,
            "_view_module": "@jupyter-widgets/base",
            "_view_module_version": "1.2.0",
            "_view_name": "LayoutView",
            "align_content": null,
            "align_items": null,
            "align_self": null,
            "border": null,
            "bottom": null,
            "display": null,
            "flex": null,
            "flex_flow": null,
            "grid_area": null,
            "grid_auto_columns": null,
            "grid_auto_flow": null,
            "grid_auto_rows": null,
            "grid_column": null,
            "grid_gap": null,
            "grid_row": null,
            "grid_template_areas": null,
            "grid_template_columns": null,
            "grid_template_rows": null,
            "height": null,
            "justify_content": null,
            "justify_items": null,
            "left": null,
            "margin": null,
            "max_height": null,
            "max_width": null,
            "min_height": null,
            "min_width": null,
            "object_fit": null,
            "object_position": null,
            "order": null,
            "overflow": null,
            "overflow_x": null,
            "overflow_y": null,
            "padding": null,
            "right": null,
            "top": null,
            "visibility": null,
            "width": null
          }
        },
        "6beb6b3b923944b59f2d98a946b2d074": {
          "model_module": "@jupyter-widgets/base",
          "model_module_version": "1.2.0",
          "model_name": "LayoutModel",
          "state": {
            "_model_module": "@jupyter-widgets/base",
            "_model_module_version": "1.2.0",
            "_model_name": "LayoutModel",
            "_view_count": null,
            "_view_module": "@jupyter-widgets/base",
            "_view_module_version": "1.2.0",
            "_view_name": "LayoutView",
            "align_content": null,
            "align_items": null,
            "align_self": null,
            "border": null,
            "bottom": null,
            "display": null,
            "flex": null,
            "flex_flow": null,
            "grid_area": null,
            "grid_auto_columns": null,
            "grid_auto_flow": null,
            "grid_auto_rows": null,
            "grid_column": null,
            "grid_gap": null,
            "grid_row": null,
            "grid_template_areas": null,
            "grid_template_columns": null,
            "grid_template_rows": null,
            "height": null,
            "justify_content": null,
            "justify_items": null,
            "left": null,
            "margin": null,
            "max_height": null,
            "max_width": null,
            "min_height": null,
            "min_width": null,
            "object_fit": null,
            "object_position": null,
            "order": null,
            "overflow": null,
            "overflow_x": null,
            "overflow_y": null,
            "padding": null,
            "right": null,
            "top": null,
            "visibility": null,
            "width": null
          }
        },
        "7658bf41ae4d4e618b93adbc4e057f6d": {
          "model_module": "@jupyter-widgets/controls",
          "model_module_version": "1.5.0",
          "model_name": "DescriptionStyleModel",
          "state": {
            "_model_module": "@jupyter-widgets/controls",
            "_model_module_version": "1.5.0",
            "_model_name": "DescriptionStyleModel",
            "_view_count": null,
            "_view_module": "@jupyter-widgets/base",
            "_view_module_version": "1.2.0",
            "_view_name": "StyleView",
            "description_width": ""
          }
        },
        "996316a74a624bd3ae5fda6a7b4063ce": {
          "model_module": "@jupyter-widgets/base",
          "model_module_version": "1.2.0",
          "model_name": "LayoutModel",
          "state": {
            "_model_module": "@jupyter-widgets/base",
            "_model_module_version": "1.2.0",
            "_model_name": "LayoutModel",
            "_view_count": null,
            "_view_module": "@jupyter-widgets/base",
            "_view_module_version": "1.2.0",
            "_view_name": "LayoutView",
            "align_content": null,
            "align_items": null,
            "align_self": null,
            "border": null,
            "bottom": null,
            "display": null,
            "flex": null,
            "flex_flow": null,
            "grid_area": null,
            "grid_auto_columns": null,
            "grid_auto_flow": null,
            "grid_auto_rows": null,
            "grid_column": null,
            "grid_gap": null,
            "grid_row": null,
            "grid_template_areas": null,
            "grid_template_columns": null,
            "grid_template_rows": null,
            "height": null,
            "justify_content": null,
            "justify_items": null,
            "left": null,
            "margin": null,
            "max_height": null,
            "max_width": null,
            "min_height": null,
            "min_width": null,
            "object_fit": null,
            "object_position": null,
            "order": null,
            "overflow": null,
            "overflow_x": null,
            "overflow_y": null,
            "padding": null,
            "right": null,
            "top": null,
            "visibility": null,
            "width": null
          }
        },
        "99f108544948452c8984946922c9a95d": {
          "model_module": "@jupyter-widgets/base",
          "model_module_version": "1.2.0",
          "model_name": "LayoutModel",
          "state": {
            "_model_module": "@jupyter-widgets/base",
            "_model_module_version": "1.2.0",
            "_model_name": "LayoutModel",
            "_view_count": null,
            "_view_module": "@jupyter-widgets/base",
            "_view_module_version": "1.2.0",
            "_view_name": "LayoutView",
            "align_content": null,
            "align_items": null,
            "align_self": null,
            "border": null,
            "bottom": null,
            "display": null,
            "flex": null,
            "flex_flow": null,
            "grid_area": null,
            "grid_auto_columns": null,
            "grid_auto_flow": null,
            "grid_auto_rows": null,
            "grid_column": null,
            "grid_gap": null,
            "grid_row": null,
            "grid_template_areas": null,
            "grid_template_columns": null,
            "grid_template_rows": null,
            "height": null,
            "justify_content": null,
            "justify_items": null,
            "left": null,
            "margin": null,
            "max_height": null,
            "max_width": null,
            "min_height": null,
            "min_width": null,
            "object_fit": null,
            "object_position": null,
            "order": null,
            "overflow": null,
            "overflow_x": null,
            "overflow_y": null,
            "padding": null,
            "right": null,
            "top": null,
            "visibility": null,
            "width": null
          }
        },
        "a8428ae5e8244c97a4c424516ed9fb89": {
          "model_module": "@jupyter-widgets/controls",
          "model_module_version": "1.5.0",
          "model_name": "IntSliderModel",
          "state": {
            "_dom_classes": [],
            "_model_module": "@jupyter-widgets/controls",
            "_model_module_version": "1.5.0",
            "_model_name": "IntSliderModel",
            "_view_count": null,
            "_view_module": "@jupyter-widgets/controls",
            "_view_module_version": "1.5.0",
            "_view_name": "IntSliderView",
            "continuous_update": true,
            "description": "Years:",
            "description_tooltip": null,
            "disabled": false,
            "layout": "IPY_MODEL_b23373a3e6cf4b99bd77857f3a4d9613",
            "max": 30,
            "min": 1,
            "orientation": "horizontal",
            "readout": true,
            "readout_format": "d",
            "step": 1,
            "style": "IPY_MODEL_0865ef3482ef4ed7b2f31798b56e6179",
            "value": 5
          }
        },
        "aa2c8f60c4ee414dbddabc502700fe03": {
          "model_module": "@jupyter-widgets/controls",
          "model_module_version": "1.5.0",
          "model_name": "DescriptionStyleModel",
          "state": {
            "_model_module": "@jupyter-widgets/controls",
            "_model_module_version": "1.5.0",
            "_model_name": "DescriptionStyleModel",
            "_view_count": null,
            "_view_module": "@jupyter-widgets/base",
            "_view_module_version": "1.2.0",
            "_view_name": "StyleView",
            "description_width": ""
          }
        },
        "b114847b998a4a118a9a790ea15e9f4a": {
          "model_module": "@jupyter-widgets/controls",
          "model_module_version": "1.5.0",
          "model_name": "SliderStyleModel",
          "state": {
            "_model_module": "@jupyter-widgets/controls",
            "_model_module_version": "1.5.0",
            "_model_name": "SliderStyleModel",
            "_view_count": null,
            "_view_module": "@jupyter-widgets/base",
            "_view_module_version": "1.2.0",
            "_view_name": "StyleView",
            "description_width": "",
            "handle_color": null
          }
        },
        "b1bab3bb16954675886e467ead75e4be": {
          "model_module": "@jupyter-widgets/base",
          "model_module_version": "1.2.0",
          "model_name": "LayoutModel",
          "state": {
            "_model_module": "@jupyter-widgets/base",
            "_model_module_version": "1.2.0",
            "_model_name": "LayoutModel",
            "_view_count": null,
            "_view_module": "@jupyter-widgets/base",
            "_view_module_version": "1.2.0",
            "_view_name": "LayoutView",
            "align_content": null,
            "align_items": null,
            "align_self": null,
            "border": null,
            "bottom": null,
            "display": null,
            "flex": null,
            "flex_flow": null,
            "grid_area": null,
            "grid_auto_columns": null,
            "grid_auto_flow": null,
            "grid_auto_rows": null,
            "grid_column": null,
            "grid_gap": null,
            "grid_row": null,
            "grid_template_areas": null,
            "grid_template_columns": null,
            "grid_template_rows": null,
            "height": null,
            "justify_content": null,
            "justify_items": null,
            "left": null,
            "margin": null,
            "max_height": null,
            "max_width": null,
            "min_height": null,
            "min_width": null,
            "object_fit": null,
            "object_position": null,
            "order": null,
            "overflow": null,
            "overflow_x": null,
            "overflow_y": null,
            "padding": null,
            "right": null,
            "top": null,
            "visibility": null,
            "width": null
          }
        },
        "b23373a3e6cf4b99bd77857f3a4d9613": {
          "model_module": "@jupyter-widgets/base",
          "model_module_version": "1.2.0",
          "model_name": "LayoutModel",
          "state": {
            "_model_module": "@jupyter-widgets/base",
            "_model_module_version": "1.2.0",
            "_model_name": "LayoutModel",
            "_view_count": null,
            "_view_module": "@jupyter-widgets/base",
            "_view_module_version": "1.2.0",
            "_view_name": "LayoutView",
            "align_content": null,
            "align_items": null,
            "align_self": null,
            "border": null,
            "bottom": null,
            "display": null,
            "flex": null,
            "flex_flow": null,
            "grid_area": null,
            "grid_auto_columns": null,
            "grid_auto_flow": null,
            "grid_auto_rows": null,
            "grid_column": null,
            "grid_gap": null,
            "grid_row": null,
            "grid_template_areas": null,
            "grid_template_columns": null,
            "grid_template_rows": null,
            "height": null,
            "justify_content": null,
            "justify_items": null,
            "left": null,
            "margin": null,
            "max_height": null,
            "max_width": null,
            "min_height": null,
            "min_width": null,
            "object_fit": null,
            "object_position": null,
            "order": null,
            "overflow": null,
            "overflow_x": null,
            "overflow_y": null,
            "padding": null,
            "right": null,
            "top": null,
            "visibility": null,
            "width": null
          }
        },
        "bd23794d55f94c7e95db8750f22fa6b9": {
          "model_module": "@jupyter-widgets/base",
          "model_module_version": "1.2.0",
          "model_name": "LayoutModel",
          "state": {
            "_model_module": "@jupyter-widgets/base",
            "_model_module_version": "1.2.0",
            "_model_name": "LayoutModel",
            "_view_count": null,
            "_view_module": "@jupyter-widgets/base",
            "_view_module_version": "1.2.0",
            "_view_name": "LayoutView",
            "align_content": null,
            "align_items": null,
            "align_self": null,
            "border": null,
            "bottom": null,
            "display": null,
            "flex": null,
            "flex_flow": null,
            "grid_area": null,
            "grid_auto_columns": null,
            "grid_auto_flow": null,
            "grid_auto_rows": null,
            "grid_column": null,
            "grid_gap": null,
            "grid_row": null,
            "grid_template_areas": null,
            "grid_template_columns": null,
            "grid_template_rows": null,
            "height": null,
            "justify_content": null,
            "justify_items": null,
            "left": null,
            "margin": null,
            "max_height": null,
            "max_width": null,
            "min_height": null,
            "min_width": null,
            "object_fit": null,
            "object_position": null,
            "order": null,
            "overflow": null,
            "overflow_x": null,
            "overflow_y": null,
            "padding": null,
            "right": null,
            "top": null,
            "visibility": null,
            "width": null
          }
        },
        "c85ac061f9a14c7cbf96a1184effce05": {
          "model_module": "@jupyter-widgets/base",
          "model_module_version": "1.2.0",
          "model_name": "LayoutModel",
          "state": {
            "_model_module": "@jupyter-widgets/base",
            "_model_module_version": "1.2.0",
            "_model_name": "LayoutModel",
            "_view_count": null,
            "_view_module": "@jupyter-widgets/base",
            "_view_module_version": "1.2.0",
            "_view_name": "LayoutView",
            "align_content": null,
            "align_items": null,
            "align_self": null,
            "border": null,
            "bottom": null,
            "display": null,
            "flex": null,
            "flex_flow": null,
            "grid_area": null,
            "grid_auto_columns": null,
            "grid_auto_flow": null,
            "grid_auto_rows": null,
            "grid_column": null,
            "grid_gap": null,
            "grid_row": null,
            "grid_template_areas": null,
            "grid_template_columns": null,
            "grid_template_rows": null,
            "height": null,
            "justify_content": null,
            "justify_items": null,
            "left": null,
            "margin": null,
            "max_height": null,
            "max_width": null,
            "min_height": null,
            "min_width": null,
            "object_fit": null,
            "object_position": null,
            "order": null,
            "overflow": null,
            "overflow_x": null,
            "overflow_y": null,
            "padding": null,
            "right": null,
            "top": null,
            "visibility": null,
            "width": null
          }
        },
        "cef8650c68ee450e82c7339bb310cbf7": {
          "model_module": "@jupyter-widgets/controls",
          "model_module_version": "1.5.0",
          "model_name": "ButtonModel",
          "state": {
            "_dom_classes": [],
            "_model_module": "@jupyter-widgets/controls",
            "_model_module_version": "1.5.0",
            "_model_name": "ButtonModel",
            "_view_count": null,
            "_view_module": "@jupyter-widgets/controls",
            "_view_module_version": "1.5.0",
            "_view_name": "ButtonView",
            "button_style": "success",
            "description": "Compare Investments",
            "disabled": false,
            "icon": "",
            "layout": "IPY_MODEL_35969c60915946bb996977f3cba93bd5",
            "style": "IPY_MODEL_eaa6b825f8fa4967ba39621fe17d6a7f",
            "tooltip": ""
          }
        },
        "d238d0ec7513442eac502b491c8b5404": {
          "model_module": "@jupyter-widgets/controls",
          "model_module_version": "1.5.0",
          "model_name": "IntTextModel",
          "state": {
            "_dom_classes": [],
            "_model_module": "@jupyter-widgets/controls",
            "_model_module_version": "1.5.0",
            "_model_name": "IntTextModel",
            "_view_count": null,
            "_view_module": "@jupyter-widgets/controls",
            "_view_module_version": "1.5.0",
            "_view_name": "IntTextView",
            "continuous_update": false,
            "description": "Investment ($):",
            "description_tooltip": null,
            "disabled": false,
            "layout": "IPY_MODEL_b1bab3bb16954675886e467ead75e4be",
            "step": 100,
            "style": "IPY_MODEL_dba7d855989b465089e9cbcfc1e58a66",
            "value": 1000
          }
        },
        "d8d1f87a522642a6b106a635ea77f4fb": {
          "model_module": "@jupyter-widgets/controls",
          "model_module_version": "1.5.0",
          "model_name": "IntSliderModel",
          "state": {
            "_dom_classes": [],
            "_model_module": "@jupyter-widgets/controls",
            "_model_module_version": "1.5.0",
            "_model_name": "IntSliderModel",
            "_view_count": null,
            "_view_module": "@jupyter-widgets/controls",
            "_view_module_version": "1.5.0",
            "_view_name": "IntSliderView",
            "continuous_update": true,
            "description": "Years:",
            "description_tooltip": null,
            "disabled": false,
            "layout": "IPY_MODEL_68ef6577df9c4bed9cb004f7f5bc8222",
            "max": 30,
            "min": 1,
            "orientation": "horizontal",
            "readout": true,
            "readout_format": "d",
            "step": 1,
            "style": "IPY_MODEL_fa8a2fafa1c645f7bce9a88922ff259a",
            "value": 5
          }
        },
        "dba7d855989b465089e9cbcfc1e58a66": {
          "model_module": "@jupyter-widgets/controls",
          "model_module_version": "1.5.0",
          "model_name": "DescriptionStyleModel",
          "state": {
            "_model_module": "@jupyter-widgets/controls",
            "_model_module_version": "1.5.0",
            "_model_name": "DescriptionStyleModel",
            "_view_count": null,
            "_view_module": "@jupyter-widgets/base",
            "_view_module_version": "1.2.0",
            "_view_name": "StyleView",
            "description_width": ""
          }
        },
        "e10f1952c1d7482397e22c03e73d590b": {
          "model_module": "@jupyter-widgets/controls",
          "model_module_version": "1.5.0",
          "model_name": "DescriptionStyleModel",
          "state": {
            "_model_module": "@jupyter-widgets/controls",
            "_model_module_version": "1.5.0",
            "_model_name": "DescriptionStyleModel",
            "_view_count": null,
            "_view_module": "@jupyter-widgets/base",
            "_view_module_version": "1.2.0",
            "_view_name": "StyleView",
            "description_width": ""
          }
        },
        "eaa6b825f8fa4967ba39621fe17d6a7f": {
          "model_module": "@jupyter-widgets/controls",
          "model_module_version": "1.5.0",
          "model_name": "ButtonStyleModel",
          "state": {
            "_model_module": "@jupyter-widgets/controls",
            "_model_module_version": "1.5.0",
            "_model_name": "ButtonStyleModel",
            "_view_count": null,
            "_view_module": "@jupyter-widgets/base",
            "_view_module_version": "1.2.0",
            "_view_name": "StyleView",
            "button_color": null,
            "font_weight": ""
          }
        },
        "f1558cf0bc764c63984ca3713a189ffa": {
          "model_module": "@jupyter-widgets/base",
          "model_module_version": "1.2.0",
          "model_name": "LayoutModel",
          "state": {
            "_model_module": "@jupyter-widgets/base",
            "_model_module_version": "1.2.0",
            "_model_name": "LayoutModel",
            "_view_count": null,
            "_view_module": "@jupyter-widgets/base",
            "_view_module_version": "1.2.0",
            "_view_name": "LayoutView",
            "align_content": null,
            "align_items": null,
            "align_self": null,
            "border": null,
            "bottom": null,
            "display": null,
            "flex": null,
            "flex_flow": null,
            "grid_area": null,
            "grid_auto_columns": null,
            "grid_auto_flow": null,
            "grid_auto_rows": null,
            "grid_column": null,
            "grid_gap": null,
            "grid_row": null,
            "grid_template_areas": null,
            "grid_template_columns": null,
            "grid_template_rows": null,
            "height": null,
            "justify_content": null,
            "justify_items": null,
            "left": null,
            "margin": null,
            "max_height": null,
            "max_width": null,
            "min_height": null,
            "min_width": null,
            "object_fit": null,
            "object_position": null,
            "order": null,
            "overflow": null,
            "overflow_x": null,
            "overflow_y": null,
            "padding": null,
            "right": null,
            "top": null,
            "visibility": null,
            "width": null
          }
        },
        "fa8a2fafa1c645f7bce9a88922ff259a": {
          "model_module": "@jupyter-widgets/controls",
          "model_module_version": "1.5.0",
          "model_name": "SliderStyleModel",
          "state": {
            "_model_module": "@jupyter-widgets/controls",
            "_model_module_version": "1.5.0",
            "_model_name": "SliderStyleModel",
            "_view_count": null,
            "_view_module": "@jupyter-widgets/base",
            "_view_module_version": "1.2.0",
            "_view_name": "StyleView",
            "description_width": "",
            "handle_color": null
          }
        },
        "fd392a4c497541988d3effe14cfdc471": {
          "model_module": "@jupyter-widgets/controls",
          "model_module_version": "1.5.0",
          "model_name": "IntTextModel",
          "state": {
            "_dom_classes": [],
            "_model_module": "@jupyter-widgets/controls",
            "_model_module_version": "1.5.0",
            "_model_name": "IntTextModel",
            "_view_count": null,
            "_view_module": "@jupyter-widgets/controls",
            "_view_module_version": "1.5.0",
            "_view_name": "IntTextView",
            "continuous_update": false,
            "description": "Investment ($):",
            "description_tooltip": null,
            "disabled": false,
            "layout": "IPY_MODEL_c85ac061f9a14c7cbf96a1184effce05",
            "step": 100,
            "style": "IPY_MODEL_e10f1952c1d7482397e22c03e73d590b",
            "value": 1000
          }
        },
        "feb1d23d5d454d28ae1cf2b77b9717da": {
          "model_module": "@jupyter-widgets/controls",
          "model_module_version": "1.5.0",
          "model_name": "DescriptionStyleModel",
          "state": {
            "_model_module": "@jupyter-widgets/controls",
            "_model_module_version": "1.5.0",
            "_model_name": "DescriptionStyleModel",
            "_view_count": null,
            "_view_module": "@jupyter-widgets/base",
            "_view_module_version": "1.2.0",
            "_view_name": "StyleView",
            "description_width": ""
          }
        }
      }
    }
  },
  "nbformat": 4,
  "nbformat_minor": 0
}
